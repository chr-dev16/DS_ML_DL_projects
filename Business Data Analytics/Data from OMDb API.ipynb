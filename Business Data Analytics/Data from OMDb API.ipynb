{
 "cells": [
  {
   "cell_type": "code",
   "execution_count": 1,
   "metadata": {
    "ExecuteTime": {
     "end_time": "2020-07-17T16:49:17.448095Z",
     "start_time": "2020-07-17T16:49:17.192624Z"
    }
   },
   "outputs": [],
   "source": [
    "import requests\n",
    "import json\n",
    "import pandas as pd\n",
    "import numpy as np"
   ]
  },
  {
   "cell_type": "code",
   "execution_count": 6,
   "metadata": {
    "ExecuteTime": {
     "end_time": "2020-07-17T16:50:54.637832Z",
     "start_time": "2020-07-17T16:50:54.633836Z"
    }
   },
   "outputs": [],
   "source": [
    "API_KEY = 'ad1fec0b'\n",
    "#API_KEY = '4012e32e'\n",
    "url = 'http://www.omdbapi.com/?apikey='+API_KEY\n",
    "path = \"../data/raw/\""
   ]
  },
  {
   "cell_type": "code",
   "execution_count": 3,
   "metadata": {
    "ExecuteTime": {
     "end_time": "2020-07-17T16:49:18.469641Z",
     "start_time": "2020-07-17T16:49:18.331448Z"
    }
   },
   "outputs": [],
   "source": [
    "df_movies = pd.read_csv(path+\"movies.csv\")\n",
    "df_omdB = pd.read_csv(path+\"omdB.csv\")\n",
    "failed_titles = []"
   ]
  },
  {
   "cell_type": "code",
   "execution_count": 4,
   "metadata": {
    "ExecuteTime": {
     "end_time": "2020-07-17T16:49:19.642978Z",
     "start_time": "2020-07-17T16:49:19.636693Z"
    }
   },
   "outputs": [],
   "source": [
    "def pullDatabyTitle(url,title,df):\n",
    "    response = requests.get(url+'&t='+title)\n",
    "    data = json.loads(response.text)\n",
    "    return data\n",
    "def pullDatabyID(url,omdbid,df):\n",
    "    response = requests.get(url+'&i='+str(omdbid))\n",
    "    data = json.loads(response.text)\n",
    "    return data"
   ]
  },
  {
   "cell_type": "code",
   "execution_count": null,
   "metadata": {
    "ExecuteTime": {
     "end_time": "2020-07-17T16:40:21.603080Z",
     "start_time": "2020-07-17T16:29:20.992246Z"
    }
   },
   "outputs": [],
   "source": [
    "for i in df_movies['title']:\n",
    "    if not (i in df_omdB['Title'].values):\n",
    "        data = pullDatabyTitle(url,i,df_omdB) \n",
    "        if data['Response'] == 'True':\n",
    "            df_omdB=df_omdB.append(data, ignore_index=True)\n",
    "        else:\n",
    "            failed_titles.append(i)\n",
    "            if data['Error'] == 'Request limit reached!':\n",
    "                print('Request limit reached!')\n",
    "                print(i)\n",
    "                break\n",
    "print('Finished')"
   ]
  },
  {
   "cell_type": "code",
   "execution_count": null,
   "metadata": {
    "ExecuteTime": {
     "end_time": "2020-07-17T16:40:21.605113Z",
     "start_time": "2020-07-17T16:30:41.339Z"
    }
   },
   "outputs": [],
   "source": [
    "failed_titles"
   ]
  },
  {
   "cell_type": "code",
   "execution_count": 11,
   "metadata": {
    "ExecuteTime": {
     "end_time": "2020-07-17T16:55:33.706017Z",
     "start_time": "2020-07-17T16:55:33.685526Z"
    }
   },
   "outputs": [
    {
     "data": {
      "text/plain": [
       "count      10164\n",
       "unique      9849\n",
       "top       #DUPE#\n",
       "freq           7\n",
       "Name: Title, dtype: object"
      ]
     },
     "execution_count": 11,
     "metadata": {},
     "output_type": "execute_result"
    }
   ],
   "source": [
    "df_omdB['Title'].describe()"
   ]
  },
  {
   "cell_type": "code",
   "execution_count": 14,
   "metadata": {
    "ExecuteTime": {
     "end_time": "2020-07-17T16:55:49.520951Z",
     "start_time": "2020-07-17T16:55:49.501982Z"
    }
   },
   "outputs": [
    {
     "data": {
      "text/plain": [
       "count         10158\n",
       "unique        10158\n",
       "top       tt0347618\n",
       "freq              1\n",
       "Name: imdbID, dtype: object"
      ]
     },
     "execution_count": 14,
     "metadata": {},
     "output_type": "execute_result"
    }
   ],
   "source": [
    "df_omdB['imdbID'].describe()"
   ]
  },
  {
   "cell_type": "code",
   "execution_count": 13,
   "metadata": {
    "ExecuteTime": {
     "end_time": "2020-07-17T16:55:47.760796Z",
     "start_time": "2020-07-17T16:55:47.746996Z"
    }
   },
   "outputs": [],
   "source": [
    "#df_omdB=df_omdB.drop_duplicates(subset='Title')\n",
    "df_omdB=df_omdB.drop_duplicates(subset='imdbID')"
   ]
  },
  {
   "cell_type": "code",
   "execution_count": 15,
   "metadata": {
    "ExecuteTime": {
     "end_time": "2020-07-17T16:55:54.053407Z",
     "start_time": "2020-07-17T16:55:54.047458Z"
    }
   },
   "outputs": [
    {
     "name": "stdout",
     "output_type": "stream",
     "text": [
      "99.62% already pulled\n"
     ]
    }
   ],
   "source": [
    "progress = len(df_omdB['imdbID'])/len(df_movies['imdbID'])*100\n",
    "print('{:.2f}% already pulled'.format(progress))"
   ]
  },
  {
   "cell_type": "code",
   "execution_count": 8,
   "metadata": {
    "ExecuteTime": {
     "end_time": "2020-07-17T16:51:26.274182Z",
     "start_time": "2020-07-17T16:51:26.268683Z"
    }
   },
   "outputs": [],
   "source": [
    "def transformToOmdbID(x):\n",
    "    switch = {\n",
    "        3:\"tt0000\",\n",
    "        4:\"tt000\",\n",
    "        5:\"tt00\",\n",
    "        6:\"tt0\",\n",
    "        7:\"tt\",\n",
    "    }\n",
    "    return switch.get(len(str(x)))+str(x)"
   ]
  },
  {
   "cell_type": "code",
   "execution_count": 9,
   "metadata": {
    "ExecuteTime": {
     "end_time": "2020-07-17T16:54:03.573483Z",
     "start_time": "2020-07-17T16:51:26.741543Z"
    }
   },
   "outputs": [
    {
     "name": "stdout",
     "output_type": "stream",
     "text": [
      "Finished\n"
     ]
    }
   ],
   "source": [
    "#pull by OmdbID\n",
    "for i in df_movies['imdbID']:\n",
    "    if not (transformToOmdbID(i) in df_omdB['imdbID'].values):\n",
    "        data = pullDatabyID(url,transformToOmdbID(i),df_omdB) \n",
    "        if data['Response'] == 'True':\n",
    "            df_omdB=df_omdB.append(data, ignore_index=True)\n",
    "        else:\n",
    "            failed_titles.append(i)\n",
    "            if data['Error'] == 'Request limit reached!':\n",
    "                print('Request limit reached!')\n",
    "                print(i)\n",
    "                break\n",
    "print('Finished')\n"
   ]
  },
  {
   "cell_type": "code",
   "execution_count": 16,
   "metadata": {
    "ExecuteTime": {
     "end_time": "2020-07-17T16:56:02.461935Z",
     "start_time": "2020-07-17T16:56:02.282847Z"
    }
   },
   "outputs": [],
   "source": [
    "#save\n",
    "df_omdB=df_omdB.drop_duplicates(subset='imdbID')\n",
    "df_omdB.to_csv(path+\"omdB.csv\",index=False)"
   ]
  },
  {
   "cell_type": "code",
   "execution_count": null,
   "metadata": {},
   "outputs": [],
   "source": []
  }
 ],
 "metadata": {
  "kernelspec": {
   "display_name": "Python 3",
   "language": "python",
   "name": "python3"
  },
  "language_info": {
   "codemirror_mode": {
    "name": "ipython",
    "version": 3
   },
   "file_extension": ".py",
   "mimetype": "text/x-python",
   "name": "python",
   "nbconvert_exporter": "python",
   "pygments_lexer": "ipython3",
   "version": "3.7.7"
  },
  "toc": {
   "base_numbering": 1,
   "nav_menu": {},
   "number_sections": true,
   "sideBar": true,
   "skip_h1_title": false,
   "title_cell": "Table of Contents",
   "title_sidebar": "Contents",
   "toc_cell": false,
   "toc_position": {},
   "toc_section_display": true,
   "toc_window_display": false
  }
 },
 "nbformat": 4,
 "nbformat_minor": 4
}
