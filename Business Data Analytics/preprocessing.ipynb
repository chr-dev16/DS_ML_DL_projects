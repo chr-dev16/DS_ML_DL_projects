{
 "cells": [
  {
   "cell_type": "markdown",
   "metadata": {},
   "source": [
    "# Imports"
   ]
  },
  {
   "cell_type": "code",
   "execution_count": 110,
   "metadata": {
    "ExecuteTime": {
     "end_time": "2020-07-18T15:11:33.365653Z",
     "start_time": "2020-07-18T15:11:33.361881Z"
    }
   },
   "outputs": [],
   "source": [
    "import pandas as pd\n",
    "import numpy as np\n",
    "import matplotlib.pyplot as plt\n",
    "%matplotlib inline\n",
    "import seaborn as sns"
   ]
  },
  {
   "cell_type": "markdown",
   "metadata": {},
   "source": [
    "# Data gathering and preprocessing"
   ]
  },
  {
   "cell_type": "markdown",
   "metadata": {},
   "source": [
    "## Movies"
   ]
  },
  {
   "cell_type": "code",
   "execution_count": 103,
   "metadata": {
    "ExecuteTime": {
     "end_time": "2020-07-18T15:11:33.918968Z",
     "start_time": "2020-07-18T15:11:33.872355Z"
    }
   },
   "outputs": [],
   "source": [
    "df_movies = pd.read_csv('../data/raw/movies.csv')"
   ]
  },
  {
   "cell_type": "code",
   "execution_count": 104,
   "metadata": {
    "ExecuteTime": {
     "end_time": "2020-07-18T15:11:34.079760Z",
     "start_time": "2020-07-18T15:11:34.050880Z"
    }
   },
   "outputs": [],
   "source": [
    "# clean table\n",
    "df_movies.dropna(axis='index', subset=['year'], inplace=True)\n",
    "df_movies.rename(columns={'id': 'movieID'}, inplace=True)\n",
    "df_movies = df_movies.astype({'year': 'int32'})\n",
    "df_movies.drop(['rtID', 'imdbPictureURL', 'rtPictureURL', 'spanishTitle'], axis=1, inplace=True)"
   ]
  },
  {
   "cell_type": "code",
   "execution_count": 134,
   "metadata": {},
   "outputs": [
    {
     "data": {
      "image/png": "[encoded data removed]",
      "text/plain": [
       "<Figure size 1440x504 with 1 Axes>"
      ]
     },
     "metadata": {
      "needs_background": "light"
     },
     "output_type": "display_data"
    }
   ],
   "source": [
    "ax = plt.figure(figsize=(20,7))\n",
    "ax = df_movies['year'].hist(bins=109)\n",
    "ax.set(title='Distribution of Release Year')\n",
    "ax.grid(False)\n",
    "plt.show()"
   ]
  },
  {
   "cell_type": "markdown",
   "metadata": {},
   "source": [
    "Die Filme stammen aus den Jahren 1903 bis 2011. Durch diese große Range sollte das Feature wertvoll für die Vorhersage sein. Die meisten Filme haben ein Veröffentlichungsdatum nach 1980."
   ]
  },
  {
   "cell_type": "code",
   "execution_count": 100,
   "metadata": {},
   "outputs": [],
   "source": [
    "df_movies = df_movies.astype({'year': 'str'})"
   ]
  },
  {
   "cell_type": "markdown",
   "metadata": {},
   "source": [
    "### Movie Titles"
   ]
  },
  {
   "cell_type": "code",
   "execution_count": 16,
   "metadata": {
    "ExecuteTime": {
     "end_time": "2020-07-18T15:11:34.420793Z",
     "start_time": "2020-07-18T15:11:34.411776Z"
    }
   },
   "outputs": [],
   "source": [
    "movie_imdb_title = df_movies.loc[:, ['imdbID', 'title']]\n",
    "movie_imdb_title.drop_duplicates(subset=['imdbID'], inplace=True)"
   ]
  },
  {
   "cell_type": "markdown",
   "metadata": {},
   "source": [
    "### Movie IDs"
   ]
  },
  {
   "cell_type": "code",
   "execution_count": 17,
   "metadata": {
    "ExecuteTime": {
     "end_time": "2020-07-18T15:11:34.779651Z",
     "start_time": "2020-07-18T15:11:34.774656Z"
    }
   },
   "outputs": [],
   "source": [
    "movie_imdb = df_movies.loc[:, ['movieID', 'imdbID']]"
   ]
  },
  {
   "cell_type": "code",
   "execution_count": 18,
   "metadata": {
    "ExecuteTime": {
     "end_time": "2020-07-18T15:11:34.932084Z",
     "start_time": "2020-07-18T15:11:34.926807Z"
    }
   },
   "outputs": [],
   "source": [
    "# Funktion im movieID und imdbID ersetzen zu können -> wird nicht benötigt\n",
    "def movieID_to_imdbID(movieID):\n",
    "    if movieID in movie_imdb['movieID'].values:\n",
    "        index = movie_imdb.loc[movie_imdb['movieID'] == movieID].index[0]\n",
    "    else:\n",
    "        return 'NaN'\n",
    "    return movie_imdb.at[index, 'imdbID']\n",
    "\n",
    "def imdbID_to_movieID(imdbID):\n",
    "    if imdbID in movie_imdb['imdbID'].values:\n",
    "        index = movie_imdb.loc[movie_imdb['imdbID'] == imdbID].index[0]\n",
    "    else:\n",
    "        return 'NaN'\n",
    "    return movie_imdb.at[index, 'movieID']"
   ]
  },
  {
   "cell_type": "markdown",
   "metadata": {},
   "source": [
    "## Actor\n",
    "Wenn Animationsfilm -> Schauspieler weglassen?\n",
    "-> Was passiert dann bei 'Hybriden', e.g. Avatar oder sowas?"
   ]
  },
  {
   "cell_type": "code",
   "execution_count": 116,
   "metadata": {
    "ExecuteTime": {
     "end_time": "2020-07-18T15:36:14.011327Z",
     "start_time": "2020-07-18T15:36:13.831427Z"
    }
   },
   "outputs": [],
   "source": [
    "df_actors = pd.read_csv('../data/raw/actors.csv')"
   ]
  },
  {
   "cell_type": "code",
   "execution_count": 125,
   "metadata": {},
   "outputs": [
    {
     "data": {
      "image/png": "[encoded data removed]",
      "text/plain": [
       "<Figure size 864x360 with 1 Axes>"
      ]
     },
     "metadata": {
      "needs_background": "light"
     },
     "output_type": "display_data"
    }
   ],
   "source": [
    "plt.figure(figsize=(12,5))\n",
    "ax = df_actors.groupby('movieID').count()['ranking'].hist(bins=40)\n",
    "ax.set(title='Number of Actors per Movie')\n",
    "plt.show()"
   ]
  },
  {
   "cell_type": "markdown",
   "metadata": {},
   "source": [
    "Bei vielen Filmen sind relativ viele Schauspieler zugeordnet. Da wir für alle Filme gleich viele Schauspieler berücksichtigen wollen und Nebendarsteller für viele Nutzer wenig relevant sein sollten, verwenden wir im Folgenden nur die 3 Schauspieler, die im Abspann zuerst genannt wurden."
   ]
  },
  {
   "cell_type": "code",
   "execution_count": 20,
   "metadata": {
    "ExecuteTime": {
     "end_time": "2020-07-18T15:36:14.282462Z",
     "start_time": "2020-07-18T15:36:14.215010Z"
    },
    "scrolled": true
   },
   "outputs": [],
   "source": [
    "# Nur die drei Hauptschauspieler\n",
    "df_actors.drop(df_actors[ df_actors['ranking'] > 3 ].index , inplace=True)"
   ]
  },
  {
   "cell_type": "code",
   "execution_count": 21,
   "metadata": {
    "ExecuteTime": {
     "end_time": "2020-07-18T15:36:14.607415Z",
     "start_time": "2020-07-18T15:36:14.597910Z"
    }
   },
   "outputs": [],
   "source": [
    "df_test = df_actors[df_actors['ranking']==1]['movieID'].value_counts()\n",
    "df_test = pd.DataFrame(df_test)"
   ]
  },
  {
   "cell_type": "code",
   "execution_count": 22,
   "metadata": {
    "ExecuteTime": {
     "end_time": "2020-07-18T15:36:14.990998Z",
     "start_time": "2020-07-18T15:36:14.979972Z"
    }
   },
   "outputs": [
    {
     "data": {
      "text/html": [
       "<div>\n",
       "<style scoped>\n",
       "    .dataframe tbody tr th:only-of-type {\n",
       "        vertical-align: middle;\n",
       "    }\n",
       "\n",
       "    .dataframe tbody tr th {\n",
       "        vertical-align: top;\n",
       "    }\n",
       "\n",
       "    .dataframe thead th {\n",
       "        text-align: right;\n",
       "    }\n",
       "</style>\n",
       "<table border=\"1\" class=\"dataframe\">\n",
       "  <thead>\n",
       "    <tr style=\"text-align: right;\">\n",
       "      <th></th>\n",
       "      <th>movieID</th>\n",
       "    </tr>\n",
       "  </thead>\n",
       "  <tbody>\n",
       "    <tr>\n",
       "      <th>62970</th>\n",
       "      <td>49</td>\n",
       "    </tr>\n",
       "    <tr>\n",
       "      <th>26649</th>\n",
       "      <td>40</td>\n",
       "    </tr>\n",
       "    <tr>\n",
       "      <th>6167</th>\n",
       "      <td>29</td>\n",
       "    </tr>\n",
       "    <tr>\n",
       "      <th>6840</th>\n",
       "      <td>27</td>\n",
       "    </tr>\n",
       "    <tr>\n",
       "      <th>5475</th>\n",
       "      <td>26</td>\n",
       "    </tr>\n",
       "    <tr>\n",
       "      <th>...</th>\n",
       "      <td>...</td>\n",
       "    </tr>\n",
       "    <tr>\n",
       "      <th>787</th>\n",
       "      <td>3</td>\n",
       "    </tr>\n",
       "    <tr>\n",
       "      <th>3530</th>\n",
       "      <td>3</td>\n",
       "    </tr>\n",
       "    <tr>\n",
       "      <th>7415</th>\n",
       "      <td>3</td>\n",
       "    </tr>\n",
       "    <tr>\n",
       "      <th>5143</th>\n",
       "      <td>2</td>\n",
       "    </tr>\n",
       "    <tr>\n",
       "      <th>128</th>\n",
       "      <td>2</td>\n",
       "    </tr>\n",
       "  </tbody>\n",
       "</table>\n",
       "<p>327 rows × 1 columns</p>\n",
       "</div>"
      ],
      "text/plain": [
       "       movieID\n",
       "62970       49\n",
       "26649       40\n",
       "6167        29\n",
       "6840        27\n",
       "5475        26\n",
       "...        ...\n",
       "787          3\n",
       "3530         3\n",
       "7415         3\n",
       "5143         2\n",
       "128          2\n",
       "\n",
       "[327 rows x 1 columns]"
      ]
     },
     "execution_count": 22,
     "metadata": {},
     "output_type": "execute_result"
    }
   ],
   "source": [
    "df_test[df_test['movieID'] > 1]"
   ]
  },
  {
   "cell_type": "code",
   "execution_count": 23,
   "metadata": {
    "ExecuteTime": {
     "end_time": "2020-07-18T15:36:15.878111Z",
     "start_time": "2020-07-18T15:36:15.864908Z"
    }
   },
   "outputs": [],
   "source": [
    "df_actors = df_actors.drop_duplicates(subset=['movieID','ranking'])"
   ]
  },
  {
   "cell_type": "code",
   "execution_count": 24,
   "metadata": {
    "ExecuteTime": {
     "end_time": "2020-07-18T15:36:17.897514Z",
     "start_time": "2020-07-18T15:36:17.855112Z"
    }
   },
   "outputs": [
    {
     "data": {
      "text/html": [
       "<div>\n",
       "<style scoped>\n",
       "    .dataframe tbody tr th:only-of-type {\n",
       "        vertical-align: middle;\n",
       "    }\n",
       "\n",
       "    .dataframe tbody tr th {\n",
       "        vertical-align: top;\n",
       "    }\n",
       "\n",
       "    .dataframe thead th {\n",
       "        text-align: right;\n",
       "    }\n",
       "</style>\n",
       "<table border=\"1\" class=\"dataframe\">\n",
       "  <thead>\n",
       "    <tr style=\"text-align: right;\">\n",
       "      <th></th>\n",
       "      <th>movieID</th>\n",
       "      <th>actor1</th>\n",
       "      <th>actor2</th>\n",
       "      <th>actor3</th>\n",
       "    </tr>\n",
       "  </thead>\n",
       "  <tbody>\n",
       "    <tr>\n",
       "      <th>0</th>\n",
       "      <td>1</td>\n",
       "      <td>tom_hanks</td>\n",
       "      <td>tim_allen</td>\n",
       "      <td>don_rickles</td>\n",
       "    </tr>\n",
       "    <tr>\n",
       "      <th>1</th>\n",
       "      <td>2</td>\n",
       "      <td>robin_williams</td>\n",
       "      <td>bonnie_hunt</td>\n",
       "      <td>kirsten_dunst</td>\n",
       "    </tr>\n",
       "    <tr>\n",
       "      <th>2</th>\n",
       "      <td>3</td>\n",
       "      <td>jack_lemmon</td>\n",
       "      <td>walter_matthau</td>\n",
       "      <td>annmargret</td>\n",
       "    </tr>\n",
       "    <tr>\n",
       "      <th>3</th>\n",
       "      <td>4</td>\n",
       "      <td>whitney_houston</td>\n",
       "      <td>angela_bassett</td>\n",
       "      <td>loretta_devine</td>\n",
       "    </tr>\n",
       "    <tr>\n",
       "      <th>4</th>\n",
       "      <td>5</td>\n",
       "      <td>steve_martin</td>\n",
       "      <td>diane_keaton</td>\n",
       "      <td>martin_short</td>\n",
       "    </tr>\n",
       "    <tr>\n",
       "      <th>...</th>\n",
       "      <td>...</td>\n",
       "      <td>...</td>\n",
       "      <td>...</td>\n",
       "      <td>...</td>\n",
       "    </tr>\n",
       "    <tr>\n",
       "      <th>10169</th>\n",
       "      <td>65088</td>\n",
       "      <td>adam_sandler</td>\n",
       "      <td>keri_russell</td>\n",
       "      <td>guy_pearce</td>\n",
       "    </tr>\n",
       "    <tr>\n",
       "      <th>10170</th>\n",
       "      <td>65091</td>\n",
       "      <td>clark_gable</td>\n",
       "      <td>william_powell</td>\n",
       "      <td>myrna_loy</td>\n",
       "    </tr>\n",
       "    <tr>\n",
       "      <th>10171</th>\n",
       "      <td>65126</td>\n",
       "      <td>sam_rockwell</td>\n",
       "      <td>anjelicahuston</td>\n",
       "      <td>kelly_macdonald</td>\n",
       "    </tr>\n",
       "    <tr>\n",
       "      <th>10172</th>\n",
       "      <td>65130</td>\n",
       "      <td>leonardo_di_caprio</td>\n",
       "      <td>kate_winslet</td>\n",
       "      <td>kathy_bates</td>\n",
       "    </tr>\n",
       "    <tr>\n",
       "      <th>10173</th>\n",
       "      <td>65133</td>\n",
       "      <td>colin_firth</td>\n",
       "      <td>hugh_laurie</td>\n",
       "      <td>kate_moss</td>\n",
       "    </tr>\n",
       "  </tbody>\n",
       "</table>\n",
       "<p>10174 rows × 4 columns</p>\n",
       "</div>"
      ],
      "text/plain": [
       "       movieID              actor1          actor2           actor3\n",
       "0            1           tom_hanks       tim_allen      don_rickles\n",
       "1            2      robin_williams     bonnie_hunt    kirsten_dunst\n",
       "2            3         jack_lemmon  walter_matthau       annmargret\n",
       "3            4     whitney_houston  angela_bassett   loretta_devine\n",
       "4            5        steve_martin    diane_keaton     martin_short\n",
       "...        ...                 ...             ...              ...\n",
       "10169    65088        adam_sandler    keri_russell       guy_pearce\n",
       "10170    65091         clark_gable  william_powell        myrna_loy\n",
       "10171    65126        sam_rockwell  anjelicahuston  kelly_macdonald\n",
       "10172    65130  leonardo_di_caprio    kate_winslet      kathy_bates\n",
       "10173    65133         colin_firth     hugh_laurie        kate_moss\n",
       "\n",
       "[10174 rows x 4 columns]"
      ]
     },
     "execution_count": 24,
     "metadata": {},
     "output_type": "execute_result"
    }
   ],
   "source": [
    "# In DataFrame anhand der MovieID umwandeln\n",
    "df_movies_actor = pd.DataFrame(df_actors['movieID'].drop_duplicates())\n",
    "\n",
    "df_movies_actor = df_movies_actor.merge(df_actors.loc[df_actors['ranking']==1,['movieID','actorID']], on='movieID',how='left')\n",
    "df_movies_actor = df_movies_actor.rename(columns={\"actorID\": \"actor1\"})\n",
    "df_movies_actor = df_movies_actor.merge(df_actors.loc[df_actors['ranking']==2,['movieID','actorID']], on='movieID',how='left')\n",
    "df_movies_actor = df_movies_actor.rename(columns={\"actorID\": \"actor2\"})\n",
    "df_movies_actor = df_movies_actor.merge(df_actors.loc[df_actors['ranking']==3,['movieID','actorID']], on='movieID',how='left')\n",
    "df_movies_actor = df_movies_actor.rename(columns={\"actorID\": \"actor3\"})\n",
    "df_movies_actor"
   ]
  },
  {
   "cell_type": "code",
   "execution_count": 25,
   "metadata": {
    "ExecuteTime": {
     "end_time": "2020-07-18T15:11:36.204973Z",
     "start_time": "2020-07-18T15:11:36.194424Z"
    },
    "pycharm": {
     "name": "#%%\n"
    }
   },
   "outputs": [
    {
     "name": "stdout",
     "output_type": "stream",
     "text": [
      "movieID :  0\n",
      "actor1 :  0\n",
      "actor2 :  435\n",
      "actor3 :  492\n"
     ]
    }
   ],
   "source": [
    "# check for null\n",
    "for col in df_movies_actor.columns:\n",
    "    print(col, \": \", df_movies_actor[col].isna().sum())"
   ]
  },
  {
   "cell_type": "markdown",
   "metadata": {
    "pycharm": {
     "name": "#%% md\n"
    }
   },
   "source": [
    "## Countries"
   ]
  },
  {
   "cell_type": "code",
   "execution_count": 27,
   "metadata": {
    "ExecuteTime": {
     "end_time": "2020-07-18T15:11:36.555788Z",
     "start_time": "2020-07-18T15:11:36.547593Z"
    }
   },
   "outputs": [],
   "source": [
    "df_countries = pd.read_csv('../data/raw/countries.csv')"
   ]
  },
  {
   "cell_type": "code",
   "execution_count": 28,
   "metadata": {
    "ExecuteTime": {
     "end_time": "2020-07-18T15:11:36.737472Z",
     "start_time": "2020-07-18T15:11:36.729512Z"
    }
   },
   "outputs": [
    {
     "name": "stdout",
     "output_type": "stream",
     "text": [
      "movieID :  0\n",
      "country :  8\n"
     ]
    }
   ],
   "source": [
    "# check for null\n",
    "for col in df_countries.columns:\n",
    "    print(col, \": \", df_countries[col].isna().sum())"
   ]
  },
  {
   "cell_type": "code",
   "execution_count": 29,
   "metadata": {
    "ExecuteTime": {
     "end_time": "2020-07-18T15:11:36.935395Z",
     "start_time": "2020-07-18T15:11:36.928552Z"
    },
    "pycharm": {
     "name": "#%%\n"
    },
    "scrolled": true
   },
   "outputs": [
    {
     "data": {
      "text/plain": [
       "2047     1\n",
       "7457     1\n",
       "5424     1\n",
       "62764    1\n",
       "3371     1\n",
       "        ..\n",
       "4751     1\n",
       "6798     1\n",
       "653      1\n",
       "2700     1\n",
       "2049     1\n",
       "Name: movieID, Length: 10197, dtype: int64"
      ]
     },
     "execution_count": 29,
     "metadata": {},
     "output_type": "execute_result"
    }
   ],
   "source": [
    "df_countries['movieID'].value_counts()"
   ]
  },
  {
   "cell_type": "markdown",
   "metadata": {},
   "source": [
    "Kein Movie hat mehrere Länder"
   ]
  },
  {
   "cell_type": "code",
   "execution_count": 127,
   "metadata": {},
   "outputs": [
    {
     "data": {
      "image/png": "[encoded data removed]",
      "text/plain": [
       "<Figure size 1440x504 with 1 Axes>"
      ]
     },
     "metadata": {
      "needs_background": "light"
     },
     "output_type": "display_data"
    }
   ],
   "source": [
    "plt.figure(figsize=(20,7))\n",
    "ax = df_countries['country'].value_counts().plot(kind='bar')\n",
    "ax.set(title='Number of Movies per Country')\n",
    "plt.show()"
   ]
  },
  {
   "cell_type": "markdown",
   "metadata": {},
   "source": [
    "Jedem Film ist genau ein Produktionsland zugeordnet. Zwei Drittel der Filme kommen aus den USA, was die Aussagekraft des Merkmals etwas einschränkt. Dennoch verwenden wir das Merkmal, um spezielle Herstellungsländer wie Frankreich oder Japan zu berücksichtigen."
   ]
  },
  {
   "cell_type": "markdown",
   "metadata": {
    "pycharm": {
     "name": "#%% md\n"
    }
   },
   "source": [
    "## Directors"
   ]
  },
  {
   "cell_type": "code",
   "execution_count": 130,
   "metadata": {
    "ExecuteTime": {
     "end_time": "2020-07-18T15:11:37.494317Z",
     "start_time": "2020-07-18T15:11:37.476485Z"
    }
   },
   "outputs": [],
   "source": [
    "df_directors = pd.read_csv('../data/raw/directors.csv')"
   ]
  },
  {
   "cell_type": "code",
   "execution_count": 133,
   "metadata": {},
   "outputs": [
    {
     "data": {
      "image/png": "[encoded data removed]",
      "text/plain": [
       "<Figure size 1440x504 with 1 Axes>"
      ]
     },
     "metadata": {
      "needs_background": "light"
     },
     "output_type": "display_data"
    }
   ],
   "source": [
    "plt.figure(figsize=(20,7))\n",
    "ax = df_directors['directorName'].value_counts()[:40].plot(kind='bar')\n",
    "ax.set(title='Number of Movies per Director')\n",
    "plt.show()"
   ]
  },
  {
   "cell_type": "markdown",
   "metadata": {},
   "source": [
    "Viele Regisseure haben bei mehreren Filmen Regie geführt. Daher werden bei einem User, der Filme eines Regisseurs regelmäßig gut bewertet, für andere Filme des Regisseurs tendenziell eine gute Bewertung vorhergesagt."
   ]
  },
  {
   "cell_type": "code",
   "execution_count": 31,
   "metadata": {
    "ExecuteTime": {
     "end_time": "2020-07-18T15:11:37.653166Z",
     "start_time": "2020-07-18T15:11:37.648449Z"
    }
   },
   "outputs": [
    {
     "name": "stdout",
     "output_type": "stream",
     "text": [
      "movieID :  0\n",
      "directorID :  0\n",
      "directorName :  0\n"
     ]
    }
   ],
   "source": [
    "# check for null\n",
    "for col in df_directors.columns:\n",
    "    print(col, \": \", df_directors[col].isna().sum())"
   ]
  },
  {
   "cell_type": "code",
   "execution_count": 32,
   "metadata": {
    "ExecuteTime": {
     "end_time": "2020-07-18T15:11:37.835283Z",
     "start_time": "2020-07-18T15:11:37.830783Z"
    },
    "pycharm": {
     "name": "#%%\n"
    }
   },
   "outputs": [],
   "source": [
    "df_directors.drop('directorName', axis=1, inplace=True)"
   ]
  },
  {
   "cell_type": "markdown",
   "metadata": {
    "pycharm": {
     "name": "#%% md\n"
    }
   },
   "source": [
    "## Genre"
   ]
  },
  {
   "cell_type": "code",
   "execution_count": 33,
   "metadata": {
    "ExecuteTime": {
     "end_time": "2020-07-18T15:11:38.228456Z",
     "start_time": "2020-07-18T15:11:38.214523Z"
    }
   },
   "outputs": [],
   "source": [
    "df_genres = pd.read_csv('../data/raw/genres.csv')"
   ]
  },
  {
   "cell_type": "code",
   "execution_count": 34,
   "metadata": {
    "ExecuteTime": {
     "end_time": "2020-07-18T15:11:38.406177Z",
     "start_time": "2020-07-18T15:11:38.399353Z"
    }
   },
   "outputs": [
    {
     "name": "stdout",
     "output_type": "stream",
     "text": [
      "movieID :  0\n",
      "genre :  0\n"
     ]
    }
   ],
   "source": [
    "# check for null\n",
    "for col in df_genres.columns:\n",
    "    print(col, \": \", df_genres[col].isna().sum())"
   ]
  },
  {
   "cell_type": "code",
   "execution_count": 35,
   "metadata": {
    "ExecuteTime": {
     "end_time": "2020-07-18T15:11:38.581781Z",
     "start_time": "2020-07-18T15:11:38.573173Z"
    },
    "pycharm": {
     "name": "#%%\n"
    }
   },
   "outputs": [
    {
     "data": {
      "text/plain": [
       "51709    8\n",
       "2987     7\n",
       "56152    7\n",
       "46948    7\n",
       "673      6\n",
       "        ..\n",
       "4988     1\n",
       "7751     1\n",
       "3653     1\n",
       "3637     1\n",
       "4286     1\n",
       "Name: movieID, Length: 10197, dtype: int64"
      ]
     },
     "execution_count": 35,
     "metadata": {},
     "output_type": "execute_result"
    }
   ],
   "source": [
    "df_genres[\"movieID\"].value_counts()"
   ]
  },
  {
   "cell_type": "markdown",
   "metadata": {
    "pycharm": {
     "name": "#%% md\n"
    }
   },
   "source": [
    "Filme haben bis zu 8 Genres"
   ]
  },
  {
   "cell_type": "code",
   "execution_count": 36,
   "metadata": {
    "ExecuteTime": {
     "end_time": "2020-07-18T15:11:39.611437Z",
     "start_time": "2020-07-18T15:11:38.935504Z"
    }
   },
   "outputs": [],
   "source": [
    "df_genres_all = pd.DataFrame(columns = ['movieID', 'genre'])\n",
    "df_genres_all['movieID'] = df_genres[\"movieID\"].value_counts().index\n",
    "# Wird nur benötigt im in der nächsten Schleife Strings addieren zu können\n",
    "for index, row in df_genres_all.iterrows():\n",
    "    df_genres_all.at[index, 'genre']= \"\""
   ]
  },
  {
   "cell_type": "code",
   "execution_count": 37,
   "metadata": {
    "ExecuteTime": {
     "end_time": "2020-07-18T15:11:55.632510Z",
     "start_time": "2020-07-18T15:11:39.613628Z"
    },
    "pycharm": {
     "name": "#%%\n"
    }
   },
   "outputs": [
    {
     "data": {
      "text/html": [
       "<div>\n",
       "<style scoped>\n",
       "    .dataframe tbody tr th:only-of-type {\n",
       "        vertical-align: middle;\n",
       "    }\n",
       "\n",
       "    .dataframe tbody tr th {\n",
       "        vertical-align: top;\n",
       "    }\n",
       "\n",
       "    .dataframe thead th {\n",
       "        text-align: right;\n",
       "    }\n",
       "</style>\n",
       "<table border=\"1\" class=\"dataframe\">\n",
       "  <thead>\n",
       "    <tr style=\"text-align: right;\">\n",
       "      <th></th>\n",
       "      <th>movieID</th>\n",
       "      <th>genre</th>\n",
       "    </tr>\n",
       "  </thead>\n",
       "  <tbody>\n",
       "    <tr>\n",
       "      <th>0</th>\n",
       "      <td>51709</td>\n",
       "      <td>Action Adventure Comedy Drama Fantasy Horror ...</td>\n",
       "    </tr>\n",
       "    <tr>\n",
       "      <th>1</th>\n",
       "      <td>2987</td>\n",
       "      <td>Adventure Animation Children Comedy Crime Fan...</td>\n",
       "    </tr>\n",
       "    <tr>\n",
       "      <th>2</th>\n",
       "      <td>56152</td>\n",
       "      <td>Adventure Animation Children Comedy Fantasy M...</td>\n",
       "    </tr>\n",
       "    <tr>\n",
       "      <th>3</th>\n",
       "      <td>46948</td>\n",
       "      <td>Adventure Animation Children Comedy Drama Fan...</td>\n",
       "    </tr>\n",
       "    <tr>\n",
       "      <th>4</th>\n",
       "      <td>673</td>\n",
       "      <td>Adventure Animation Children Comedy Fantasy S...</td>\n",
       "    </tr>\n",
       "    <tr>\n",
       "      <th>...</th>\n",
       "      <td>...</td>\n",
       "      <td>...</td>\n",
       "    </tr>\n",
       "    <tr>\n",
       "      <th>10192</th>\n",
       "      <td>4988</td>\n",
       "      <td>Adventure</td>\n",
       "    </tr>\n",
       "    <tr>\n",
       "      <th>10193</th>\n",
       "      <td>7751</td>\n",
       "      <td>Drama</td>\n",
       "    </tr>\n",
       "    <tr>\n",
       "      <th>10194</th>\n",
       "      <td>3653</td>\n",
       "      <td>Documentary</td>\n",
       "    </tr>\n",
       "    <tr>\n",
       "      <th>10195</th>\n",
       "      <td>3637</td>\n",
       "      <td>Drama</td>\n",
       "    </tr>\n",
       "    <tr>\n",
       "      <th>10196</th>\n",
       "      <td>4286</td>\n",
       "      <td>Drama</td>\n",
       "    </tr>\n",
       "  </tbody>\n",
       "</table>\n",
       "<p>10197 rows × 2 columns</p>\n",
       "</div>"
      ],
      "text/plain": [
       "       movieID                                              genre\n",
       "0        51709   Action Adventure Comedy Drama Fantasy Horror ...\n",
       "1         2987   Adventure Animation Children Comedy Crime Fan...\n",
       "2        56152   Adventure Animation Children Comedy Fantasy M...\n",
       "3        46948   Adventure Animation Children Comedy Drama Fan...\n",
       "4          673   Adventure Animation Children Comedy Fantasy S...\n",
       "...        ...                                                ...\n",
       "10192     4988                                          Adventure\n",
       "10193     7751                                              Drama\n",
       "10194     3653                                        Documentary\n",
       "10195     3637                                              Drama\n",
       "10196     4286                                              Drama\n",
       "\n",
       "[10197 rows x 2 columns]"
      ]
     },
     "execution_count": 37,
     "metadata": {},
     "output_type": "execute_result"
    }
   ],
   "source": [
    "for index, row in df_genres.iterrows():\n",
    "    df_genres_all.at[df_genres_all[df_genres_all['movieID']==df_genres.at[index, 'movieID']].index[0],'genre'] = df_genres_all.at[df_genres_all[df_genres_all['movieID']==df_genres.at[index, 'movieID']].index[0],'genre']+ \" \" + df_genres.at[index, 'genre']\n",
    "df_genres_all"
   ]
  },
  {
   "cell_type": "markdown",
   "metadata": {},
   "source": [
    "Möglicherweise sind zu viele Filme den Genres \"Drama\" und \"Comedy\" zugeordnet. Dort sind 50% bzw. 36% der Filme enthalten, was die Aussagekraft dieses Merkmals verschlechtern könnte."
   ]
  },
  {
   "cell_type": "code",
   "execution_count": 135,
   "metadata": {},
   "outputs": [
    {
     "data": {
      "image/png": "[encoded data removed]",
      "text/plain": [
       "<Figure size 1440x504 with 1 Axes>"
      ]
     },
     "metadata": {
      "needs_background": "light"
     },
     "output_type": "display_data"
    }
   ],
   "source": [
    "plt.figure(figsize=(20,7))\n",
    "ax = df_genres['genre'].value_counts().plot(kind='bar')\n",
    "ax.set(title='Number of Movies per Genre')\n",
    "plt.show()"
   ]
  },
  {
   "cell_type": "code",
   "execution_count": 89,
   "metadata": {},
   "outputs": [
    {
     "data": {
      "image/png": "[encoded data removed]",
      "text/plain": [
       "<Figure size 432x288 with 1 Axes>"
      ]
     },
     "metadata": {
      "needs_background": "light"
     },
     "output_type": "display_data"
    }
   ],
   "source": [
    "ax = sns.distplot(df_genres.groupby('movieID').count(), hist_kws={'color': 'g'}, kde=False)\n",
    "ax.set(title='Number of Genres per Movie')\n",
    "plt.show()"
   ]
  },
  {
   "cell_type": "code",
   "execution_count": 72,
   "metadata": {},
   "outputs": [
    {
     "data": {
      "text/html": [
       "<div>\n",
       "<style scoped>\n",
       "    .dataframe tbody tr th:only-of-type {\n",
       "        vertical-align: middle;\n",
       "    }\n",
       "\n",
       "    .dataframe tbody tr th {\n",
       "        vertical-align: top;\n",
       "    }\n",
       "\n",
       "    .dataframe thead th {\n",
       "        text-align: right;\n",
       "    }\n",
       "</style>\n",
       "<table border=\"1\" class=\"dataframe\">\n",
       "  <thead>\n",
       "    <tr style=\"text-align: right;\">\n",
       "      <th></th>\n",
       "      <th>genre</th>\n",
       "    </tr>\n",
       "    <tr>\n",
       "      <th>movieID</th>\n",
       "      <th></th>\n",
       "    </tr>\n",
       "  </thead>\n",
       "  <tbody>\n",
       "    <tr>\n",
       "      <th>1</th>\n",
       "      <td>5</td>\n",
       "    </tr>\n",
       "    <tr>\n",
       "      <th>2</th>\n",
       "      <td>3</td>\n",
       "    </tr>\n",
       "    <tr>\n",
       "      <th>3</th>\n",
       "      <td>2</td>\n",
       "    </tr>\n",
       "    <tr>\n",
       "      <th>4</th>\n",
       "      <td>3</td>\n",
       "    </tr>\n",
       "    <tr>\n",
       "      <th>5</th>\n",
       "      <td>1</td>\n",
       "    </tr>\n",
       "    <tr>\n",
       "      <th>...</th>\n",
       "      <td>...</td>\n",
       "    </tr>\n",
       "    <tr>\n",
       "      <th>65088</th>\n",
       "      <td>3</td>\n",
       "    </tr>\n",
       "    <tr>\n",
       "      <th>65091</th>\n",
       "      <td>3</td>\n",
       "    </tr>\n",
       "    <tr>\n",
       "      <th>65126</th>\n",
       "      <td>2</td>\n",
       "    </tr>\n",
       "    <tr>\n",
       "      <th>65130</th>\n",
       "      <td>2</td>\n",
       "    </tr>\n",
       "    <tr>\n",
       "      <th>65133</th>\n",
       "      <td>1</td>\n",
       "    </tr>\n",
       "  </tbody>\n",
       "</table>\n",
       "<p>10197 rows × 1 columns</p>\n",
       "</div>"
      ],
      "text/plain": [
       "         genre\n",
       "movieID       \n",
       "1            5\n",
       "2            3\n",
       "3            2\n",
       "4            3\n",
       "5            1\n",
       "...        ...\n",
       "65088        3\n",
       "65091        3\n",
       "65126        2\n",
       "65130        2\n",
       "65133        1\n",
       "\n",
       "[10197 rows x 1 columns]"
      ]
     },
     "execution_count": 72,
     "metadata": {},
     "output_type": "execute_result"
    }
   ],
   "source": [
    "df_genres.groupby('movieID').count()"
   ]
  },
  {
   "cell_type": "markdown",
   "metadata": {
    "pycharm": {
     "name": "#%% md\n"
    }
   },
   "source": [
    "## Rating"
   ]
  },
  {
   "cell_type": "code",
   "execution_count": 38,
   "metadata": {
    "ExecuteTime": {
     "end_time": "2020-07-18T15:11:55.792590Z",
     "start_time": "2020-07-18T15:11:55.634556Z"
    }
   },
   "outputs": [],
   "source": [
    "df_ratings = pd.read_csv('../data/raw/ratings.csv')"
   ]
  },
  {
   "cell_type": "code",
   "execution_count": 39,
   "metadata": {
    "ExecuteTime": {
     "end_time": "2020-07-18T15:11:55.802715Z",
     "start_time": "2020-07-18T15:11:55.794570Z"
    }
   },
   "outputs": [
    {
     "name": "stdout",
     "output_type": "stream",
     "text": [
      "user_id :  0\n",
      "movieID :  0\n",
      "rating :  0\n"
     ]
    }
   ],
   "source": [
    "# check for null\n",
    "for col in df_ratings.columns:\n",
    "    print(col, \": \", df_ratings[col].isna().sum())"
   ]
  },
  {
   "cell_type": "code",
   "execution_count": 91,
   "metadata": {
    "ExecuteTime": {
     "end_time": "2020-07-18T15:11:56.383396Z",
     "start_time": "2020-07-18T15:11:55.804370Z"
    }
   },
   "outputs": [
    {
     "data": {
      "image/png": "[encoded data removed]",
      "text/plain": [
       "<Figure size 432x288 with 1 Axes>"
      ]
     },
     "metadata": {
      "needs_background": "light"
     },
     "output_type": "display_data"
    }
   ],
   "source": [
    "ax = df_ratings['rating'].hist(bins=[0.5, 1, 1.5, 2, 2.5, 3, 3.5, 4, 4.5, 5])\n",
    "ax.set(title=\"Distribution of User Ratings\")\n",
    "plt.show()"
   ]
  },
  {
   "cell_type": "code",
   "execution_count": 146,
   "metadata": {},
   "outputs": [
    {
     "data": {
      "image/png": "[encoded data removed]",
      "text/plain": [
       "<Figure size 1440x504 with 1 Axes>"
      ]
     },
     "metadata": {
      "needs_background": "light"
     },
     "output_type": "display_data"
    }
   ],
   "source": [
    "plt.figure(figsize=(20,7))\n",
    "ax = df_ratings.groupby('user_id').count()['rating'].hist(bins=np.arange(0,3500,15))\n",
    "ax.set(title=\"Number of Ratings per User\")\n",
    "plt.show()"
   ]
  },
  {
   "cell_type": "code",
   "execution_count": 42,
   "metadata": {
    "ExecuteTime": {
     "end_time": "2020-07-18T15:11:56.555679Z",
     "start_time": "2020-07-18T15:11:56.384889Z"
    }
   },
   "outputs": [
    {
     "data": {
      "text/html": [
       "<div>\n",
       "<style scoped>\n",
       "    .dataframe tbody tr th:only-of-type {\n",
       "        vertical-align: middle;\n",
       "    }\n",
       "\n",
       "    .dataframe tbody tr th {\n",
       "        vertical-align: top;\n",
       "    }\n",
       "\n",
       "    .dataframe thead th {\n",
       "        text-align: right;\n",
       "    }\n",
       "</style>\n",
       "<table border=\"1\" class=\"dataframe\">\n",
       "  <thead>\n",
       "    <tr style=\"text-align: right;\">\n",
       "      <th></th>\n",
       "      <th>movieID</th>\n",
       "      <th>title</th>\n",
       "      <th>imdbID</th>\n",
       "      <th>year</th>\n",
       "      <th>user_id</th>\n",
       "      <th>rating</th>\n",
       "    </tr>\n",
       "  </thead>\n",
       "  <tbody>\n",
       "    <tr>\n",
       "      <th>0</th>\n",
       "      <td>1</td>\n",
       "      <td>Toy story</td>\n",
       "      <td>114709</td>\n",
       "      <td>1995</td>\n",
       "      <td>1339</td>\n",
       "      <td>5.0</td>\n",
       "    </tr>\n",
       "    <tr>\n",
       "      <th>1</th>\n",
       "      <td>1</td>\n",
       "      <td>Toy story</td>\n",
       "      <td>114709</td>\n",
       "      <td>1995</td>\n",
       "      <td>551</td>\n",
       "      <td>3.5</td>\n",
       "    </tr>\n",
       "    <tr>\n",
       "      <th>2</th>\n",
       "      <td>1</td>\n",
       "      <td>Toy story</td>\n",
       "      <td>114709</td>\n",
       "      <td>1995</td>\n",
       "      <td>336</td>\n",
       "      <td>4.5</td>\n",
       "    </tr>\n",
       "    <tr>\n",
       "      <th>3</th>\n",
       "      <td>1</td>\n",
       "      <td>Toy story</td>\n",
       "      <td>114709</td>\n",
       "      <td>1995</td>\n",
       "      <td>1087</td>\n",
       "      <td>3.5</td>\n",
       "    </tr>\n",
       "    <tr>\n",
       "      <th>4</th>\n",
       "      <td>1</td>\n",
       "      <td>Toy story</td>\n",
       "      <td>114709</td>\n",
       "      <td>1995</td>\n",
       "      <td>1598</td>\n",
       "      <td>4.0</td>\n",
       "    </tr>\n",
       "    <tr>\n",
       "      <th>...</th>\n",
       "      <td>...</td>\n",
       "      <td>...</td>\n",
       "      <td>...</td>\n",
       "      <td>...</td>\n",
       "      <td>...</td>\n",
       "      <td>...</td>\n",
       "    </tr>\n",
       "    <tr>\n",
       "      <th>812718</th>\n",
       "      <td>65126</td>\n",
       "      <td>Choke</td>\n",
       "      <td>1024715</td>\n",
       "      <td>2008</td>\n",
       "      <td>599</td>\n",
       "      <td>3.5</td>\n",
       "    </tr>\n",
       "    <tr>\n",
       "      <th>812719</th>\n",
       "      <td>65130</td>\n",
       "      <td>Revolutionary Road</td>\n",
       "      <td>959337</td>\n",
       "      <td>2008</td>\n",
       "      <td>817</td>\n",
       "      <td>2.5</td>\n",
       "    </tr>\n",
       "    <tr>\n",
       "      <th>812720</th>\n",
       "      <td>65133</td>\n",
       "      <td>Blackadder Back &amp; Forth</td>\n",
       "      <td>212579</td>\n",
       "      <td>1999</td>\n",
       "      <td>1059</td>\n",
       "      <td>4.0</td>\n",
       "    </tr>\n",
       "    <tr>\n",
       "      <th>812721</th>\n",
       "      <td>65133</td>\n",
       "      <td>Blackadder Back &amp; Forth</td>\n",
       "      <td>212579</td>\n",
       "      <td>1999</td>\n",
       "      <td>480</td>\n",
       "      <td>5.0</td>\n",
       "    </tr>\n",
       "    <tr>\n",
       "      <th>812722</th>\n",
       "      <td>65133</td>\n",
       "      <td>Blackadder Back &amp; Forth</td>\n",
       "      <td>212579</td>\n",
       "      <td>1999</td>\n",
       "      <td>1228</td>\n",
       "      <td>3.0</td>\n",
       "    </tr>\n",
       "  </tbody>\n",
       "</table>\n",
       "<p>812723 rows × 6 columns</p>\n",
       "</div>"
      ],
      "text/plain": [
       "        movieID                    title   imdbID  year  user_id  rating\n",
       "0             1                Toy story   114709  1995     1339     5.0\n",
       "1             1                Toy story   114709  1995      551     3.5\n",
       "2             1                Toy story   114709  1995      336     4.5\n",
       "3             1                Toy story   114709  1995     1087     3.5\n",
       "4             1                Toy story   114709  1995     1598     4.0\n",
       "...         ...                      ...      ...   ...      ...     ...\n",
       "812718    65126                    Choke  1024715  2008      599     3.5\n",
       "812719    65130       Revolutionary Road   959337  2008      817     2.5\n",
       "812720    65133  Blackadder Back & Forth   212579  1999     1059     4.0\n",
       "812721    65133  Blackadder Back & Forth   212579  1999      480     5.0\n",
       "812722    65133  Blackadder Back & Forth   212579  1999     1228     3.0\n",
       "\n",
       "[812723 rows x 6 columns]"
      ]
     },
     "execution_count": 42,
     "metadata": {},
     "output_type": "execute_result"
    }
   ],
   "source": [
    "movies_rating = df_movies.merge(df_ratings, on='movieID')\n",
    "movies_rating"
   ]
  },
  {
   "cell_type": "code",
   "execution_count": 43,
   "metadata": {
    "ExecuteTime": {
     "end_time": "2020-07-18T15:11:56.636645Z",
     "start_time": "2020-07-18T15:11:56.558120Z"
    }
   },
   "outputs": [
    {
     "data": {
      "text/html": [
       "<div>\n",
       "<style scoped>\n",
       "    .dataframe tbody tr th:only-of-type {\n",
       "        vertical-align: middle;\n",
       "    }\n",
       "\n",
       "    .dataframe tbody tr th {\n",
       "        vertical-align: top;\n",
       "    }\n",
       "\n",
       "    .dataframe thead th {\n",
       "        text-align: right;\n",
       "    }\n",
       "</style>\n",
       "<table border=\"1\" class=\"dataframe\">\n",
       "  <thead>\n",
       "    <tr style=\"text-align: right;\">\n",
       "      <th></th>\n",
       "      <th>rating</th>\n",
       "      <th>number_of_ratings</th>\n",
       "    </tr>\n",
       "    <tr>\n",
       "      <th>movieID</th>\n",
       "      <th></th>\n",
       "      <th></th>\n",
       "    </tr>\n",
       "  </thead>\n",
       "  <tbody>\n",
       "    <tr>\n",
       "      <th>2571</th>\n",
       "      <td>4.173927</td>\n",
       "      <td>1584</td>\n",
       "    </tr>\n",
       "    <tr>\n",
       "      <th>4993</th>\n",
       "      <td>4.081380</td>\n",
       "      <td>1493</td>\n",
       "    </tr>\n",
       "    <tr>\n",
       "      <th>356</th>\n",
       "      <td>3.929577</td>\n",
       "      <td>1491</td>\n",
       "    </tr>\n",
       "    <tr>\n",
       "      <th>5952</th>\n",
       "      <td>4.032899</td>\n",
       "      <td>1459</td>\n",
       "    </tr>\n",
       "    <tr>\n",
       "      <th>296</th>\n",
       "      <td>4.241935</td>\n",
       "      <td>1457</td>\n",
       "    </tr>\n",
       "    <tr>\n",
       "      <th>2858</th>\n",
       "      <td>4.111151</td>\n",
       "      <td>1399</td>\n",
       "    </tr>\n",
       "    <tr>\n",
       "      <th>7153</th>\n",
       "      <td>4.083632</td>\n",
       "      <td>1393</td>\n",
       "    </tr>\n",
       "    <tr>\n",
       "      <th>318</th>\n",
       "      <td>4.365497</td>\n",
       "      <td>1368</td>\n",
       "    </tr>\n",
       "    <tr>\n",
       "      <th>2959</th>\n",
       "      <td>4.258419</td>\n",
       "      <td>1366</td>\n",
       "    </tr>\n",
       "    <tr>\n",
       "      <th>480</th>\n",
       "      <td>3.431186</td>\n",
       "      <td>1366</td>\n",
       "    </tr>\n",
       "  </tbody>\n",
       "</table>\n",
       "</div>"
      ],
      "text/plain": [
       "           rating  number_of_ratings\n",
       "movieID                             \n",
       "2571     4.173927               1584\n",
       "4993     4.081380               1493\n",
       "356      3.929577               1491\n",
       "5952     4.032899               1459\n",
       "296      4.241935               1457\n",
       "2858     4.111151               1399\n",
       "7153     4.083632               1393\n",
       "318      4.365497               1368\n",
       "2959     4.258419               1366\n",
       "480      3.431186               1366"
      ]
     },
     "execution_count": 43,
     "metadata": {},
     "output_type": "execute_result"
    }
   ],
   "source": [
    "ratings = pd.DataFrame(movies_rating.groupby('movieID')['rating'].mean())\n",
    "ratings['number_of_ratings'] = movies_rating.groupby('movieID')['rating'].count()\n",
    "#ratings = ratings.merge(movie_imdb_title, on='movieID')\n",
    "ratings.sort_values('number_of_ratings', ascending=False).head(10)"
   ]
  },
  {
   "cell_type": "code",
   "execution_count": 147,
   "metadata": {},
   "outputs": [
    {
     "data": {
      "image/png": "[encoded data removed]",
      "text/plain": [
       "<Figure size 432x288 with 1 Axes>"
      ]
     },
     "metadata": {
      "needs_background": "light"
     },
     "output_type": "display_data"
    }
   ],
   "source": [
    "ax = df_ratings.groupby('movieID').count()['rating'].hist(bins=np.arange(0,1700,15))\n",
    "ax.set(title='Number of Ratings per Movie')\n",
    "plt.show()"
   ]
  },
  {
   "cell_type": "code",
   "execution_count": 155,
   "metadata": {},
   "outputs": [
    {
     "data": {
      "text/html": [
       "<div>\n",
       "<style scoped>\n",
       "    .dataframe tbody tr th:only-of-type {\n",
       "        vertical-align: middle;\n",
       "    }\n",
       "\n",
       "    .dataframe tbody tr th {\n",
       "        vertical-align: top;\n",
       "    }\n",
       "\n",
       "    .dataframe thead th {\n",
       "        text-align: right;\n",
       "    }\n",
       "</style>\n",
       "<table border=\"1\" class=\"dataframe\">\n",
       "  <thead>\n",
       "    <tr style=\"text-align: right;\">\n",
       "      <th></th>\n",
       "      <th>movieID</th>\n",
       "      <th>title</th>\n",
       "      <th>imdbID</th>\n",
       "      <th>year</th>\n",
       "    </tr>\n",
       "  </thead>\n",
       "  <tbody>\n",
       "    <tr>\n",
       "      <th>2350</th>\n",
       "      <td>2571</td>\n",
       "      <td>The Matrix</td>\n",
       "      <td>133093</td>\n",
       "      <td>1999</td>\n",
       "    </tr>\n",
       "  </tbody>\n",
       "</table>\n",
       "</div>"
      ],
      "text/plain": [
       "      movieID       title  imdbID  year\n",
       "2350     2571  The Matrix  133093  1999"
      ]
     },
     "execution_count": 155,
     "metadata": {},
     "output_type": "execute_result"
    }
   ],
   "source": [
    "df_movies[df_movies['movieID']==2571]"
   ]
  },
  {
   "cell_type": "code",
   "execution_count": 158,
   "metadata": {
    "ExecuteTime": {
     "end_time": "2020-07-18T15:11:56.830647Z",
     "start_time": "2020-07-18T15:11:56.639729Z"
    },
    "pycharm": {
     "name": "#%%\n"
    }
   },
   "outputs": [
    {
     "data": {
      "image/png": "[encoded data removed]",
      "text/plain": [
       "<Figure size 432x288 with 1 Axes>"
      ]
     },
     "metadata": {
      "needs_background": "light"
     },
     "output_type": "display_data"
    }
   ],
   "source": [
    "ax = ratings['rating'].hist(bins=np.arange(0.5,5.5,0.5))\n",
    "ax.set(title=\"Distribution of Average Movie Ratings\")\n",
    "plt.show()"
   ]
  },
  {
   "cell_type": "markdown",
   "metadata": {
    "pycharm": {
     "name": "#%% md\n"
    }
   },
   "source": [
    "## Runtime"
   ]
  },
  {
   "cell_type": "code",
   "execution_count": 50,
   "metadata": {
    "ExecuteTime": {
     "end_time": "2020-07-18T15:11:56.857850Z",
     "start_time": "2020-07-18T15:11:56.834157Z"
    },
    "pycharm": {
     "name": "#%%\n"
    }
   },
   "outputs": [
    {
     "data": {
      "text/html": [
       "<div>\n",
       "<style scoped>\n",
       "    .dataframe tbody tr th:only-of-type {\n",
       "        vertical-align: middle;\n",
       "    }\n",
       "\n",
       "    .dataframe tbody tr th {\n",
       "        vertical-align: top;\n",
       "    }\n",
       "\n",
       "    .dataframe thead th {\n",
       "        text-align: right;\n",
       "    }\n",
       "</style>\n",
       "<table border=\"1\" class=\"dataframe\">\n",
       "  <thead>\n",
       "    <tr style=\"text-align: right;\">\n",
       "      <th></th>\n",
       "      <th>movieID</th>\n",
       "      <th>runtime_cat</th>\n",
       "    </tr>\n",
       "  </thead>\n",
       "  <tbody>\n",
       "    <tr>\n",
       "      <th>0</th>\n",
       "      <td>1</td>\n",
       "      <td>length_normal</td>\n",
       "    </tr>\n",
       "    <tr>\n",
       "      <th>1</th>\n",
       "      <td>2</td>\n",
       "      <td>length_normal</td>\n",
       "    </tr>\n",
       "    <tr>\n",
       "      <th>2</th>\n",
       "      <td>3</td>\n",
       "      <td>length_normal</td>\n",
       "    </tr>\n",
       "    <tr>\n",
       "      <th>3</th>\n",
       "      <td>4</td>\n",
       "      <td>length_excess</td>\n",
       "    </tr>\n",
       "    <tr>\n",
       "      <th>4</th>\n",
       "      <td>5</td>\n",
       "      <td>length_normal</td>\n",
       "    </tr>\n",
       "    <tr>\n",
       "      <th>...</th>\n",
       "      <td>...</td>\n",
       "      <td>...</td>\n",
       "    </tr>\n",
       "    <tr>\n",
       "      <th>10192</th>\n",
       "      <td>65088</td>\n",
       "      <td>length_normal</td>\n",
       "    </tr>\n",
       "    <tr>\n",
       "      <th>10193</th>\n",
       "      <td>65091</td>\n",
       "      <td>length_normal</td>\n",
       "    </tr>\n",
       "    <tr>\n",
       "      <th>10194</th>\n",
       "      <td>65126</td>\n",
       "      <td>length_normal</td>\n",
       "    </tr>\n",
       "    <tr>\n",
       "      <th>10195</th>\n",
       "      <td>65130</td>\n",
       "      <td>length_normal</td>\n",
       "    </tr>\n",
       "    <tr>\n",
       "      <th>10196</th>\n",
       "      <td>65133</td>\n",
       "      <td>length_short</td>\n",
       "    </tr>\n",
       "  </tbody>\n",
       "</table>\n",
       "<p>10197 rows × 2 columns</p>\n",
       "</div>"
      ],
      "text/plain": [
       "       movieID    runtime_cat\n",
       "0            1  length_normal\n",
       "1            2  length_normal\n",
       "2            3  length_normal\n",
       "3            4  length_excess\n",
       "4            5  length_normal\n",
       "...        ...            ...\n",
       "10192    65088  length_normal\n",
       "10193    65091  length_normal\n",
       "10194    65126  length_normal\n",
       "10195    65130  length_normal\n",
       "10196    65133   length_short\n",
       "\n",
       "[10197 rows x 2 columns]"
      ]
     },
     "execution_count": 50,
     "metadata": {},
     "output_type": "execute_result"
    }
   ],
   "source": [
    "df_runtime = pd.read_csv('../data/raw/runtime.csv')\n",
    "df_runtime.drop(['Runtime', 'runtime_min'], axis = 1, inplace = True)\n",
    "df_runtime"
   ]
  },
  {
   "cell_type": "code",
   "execution_count": 63,
   "metadata": {},
   "outputs": [
    {
     "data": {
      "image/png": "[encoded data removed]",
      "text/plain": [
       "<Figure size 432x288 with 1 Axes>"
      ]
     },
     "metadata": {
      "needs_background": "light"
     },
     "output_type": "display_data"
    }
   ],
   "source": [
    "ax = df_runtime['runtime_cat'].hist(align='mid')\n",
    "ax.grid(False)\n",
    "ax.set(title=\"Distribution of Movie Length\")\n",
    "plt.show()"
   ]
  },
  {
   "cell_type": "markdown",
   "metadata": {
    "pycharm": {
     "name": "#%% md\n"
    }
   },
   "source": [
    "# Merging DataFrame"
   ]
  },
  {
   "cell_type": "code",
   "execution_count": 59,
   "metadata": {
    "ExecuteTime": {
     "end_time": "2020-07-18T15:11:56.871040Z",
     "start_time": "2020-07-18T15:11:56.859729Z"
    },
    "scrolled": true
   },
   "outputs": [
    {
     "data": {
      "text/html": [
       "<div>\n",
       "<style scoped>\n",
       "    .dataframe tbody tr th:only-of-type {\n",
       "        vertical-align: middle;\n",
       "    }\n",
       "\n",
       "    .dataframe tbody tr th {\n",
       "        vertical-align: top;\n",
       "    }\n",
       "\n",
       "    .dataframe thead th {\n",
       "        text-align: right;\n",
       "    }\n",
       "</style>\n",
       "<table border=\"1\" class=\"dataframe\">\n",
       "  <thead>\n",
       "    <tr style=\"text-align: right;\">\n",
       "      <th></th>\n",
       "      <th>imdbID</th>\n",
       "    </tr>\n",
       "  </thead>\n",
       "  <tbody>\n",
       "    <tr>\n",
       "      <th>116477</th>\n",
       "      <td>6</td>\n",
       "    </tr>\n",
       "    <tr>\n",
       "      <th>293508</th>\n",
       "      <td>5</td>\n",
       "    </tr>\n",
       "    <tr>\n",
       "      <th>163978</th>\n",
       "      <td>4</td>\n",
       "    </tr>\n",
       "    <tr>\n",
       "      <th>360717</th>\n",
       "      <td>4</td>\n",
       "    </tr>\n",
       "    <tr>\n",
       "      <th>398913</th>\n",
       "      <td>4</td>\n",
       "    </tr>\n",
       "    <tr>\n",
       "      <th>...</th>\n",
       "      <td>...</td>\n",
       "    </tr>\n",
       "    <tr>\n",
       "      <th>53291</th>\n",
       "      <td>2</td>\n",
       "    </tr>\n",
       "    <tr>\n",
       "      <th>118787</th>\n",
       "      <td>2</td>\n",
       "    </tr>\n",
       "    <tr>\n",
       "      <th>89604</th>\n",
       "      <td>2</td>\n",
       "    </tr>\n",
       "    <tr>\n",
       "      <th>61512</th>\n",
       "      <td>2</td>\n",
       "    </tr>\n",
       "    <tr>\n",
       "      <th>304415</th>\n",
       "      <td>2</td>\n",
       "    </tr>\n",
       "  </tbody>\n",
       "</table>\n",
       "<p>689 rows × 1 columns</p>\n",
       "</div>"
      ],
      "text/plain": [
       "        imdbID\n",
       "116477       6\n",
       "293508       5\n",
       "163978       4\n",
       "360717       4\n",
       "398913       4\n",
       "...        ...\n",
       "53291        2\n",
       "118787       2\n",
       "89604        2\n",
       "61512        2\n",
       "304415       2\n",
       "\n",
       "[689 rows x 1 columns]"
      ]
     },
     "execution_count": 59,
     "metadata": {},
     "output_type": "execute_result"
    }
   ],
   "source": [
    "df_test = pd.DataFrame(df_movies['imdbID'].value_counts())\n",
    "df_test[df_test['imdbID']>1]\n",
    "# es gibt 689 Filme (imdbIDs) die unterschiedliche movieIDs haben (bis zu 6), z.b. imdbId 116477"
   ]
  },
  {
   "cell_type": "code",
   "execution_count": 60,
   "metadata": {
    "ExecuteTime": {
     "end_time": "2020-07-18T15:11:56.953675Z",
     "start_time": "2020-07-18T15:11:56.873149Z"
    }
   },
   "outputs": [
    {
     "name": "stdout",
     "output_type": "stream",
     "text": [
      "Loosing 0 movies due to adding Actors.\n",
      "Loosing 0 movies due to adding Countries.\n",
      "Loosing 0 movies due to adding Directors.\n",
      "Loosing 0 movies due to adding Genres.\n",
      "Loosing 0 movies due to adding Runtime.\n",
      "(14335, 11)\n"
     ]
    },
    {
     "data": {
      "text/html": [
       "<div>\n",
       "<style scoped>\n",
       "    .dataframe tbody tr th:only-of-type {\n",
       "        vertical-align: middle;\n",
       "    }\n",
       "\n",
       "    .dataframe tbody tr th {\n",
       "        vertical-align: top;\n",
       "    }\n",
       "\n",
       "    .dataframe thead th {\n",
       "        text-align: right;\n",
       "    }\n",
       "</style>\n",
       "<table border=\"1\" class=\"dataframe\">\n",
       "  <thead>\n",
       "    <tr style=\"text-align: right;\">\n",
       "      <th></th>\n",
       "      <th>movieID</th>\n",
       "      <th>title</th>\n",
       "      <th>imdbID</th>\n",
       "      <th>year</th>\n",
       "      <th>actor1</th>\n",
       "      <th>actor2</th>\n",
       "      <th>actor3</th>\n",
       "      <th>country</th>\n",
       "      <th>directorID</th>\n",
       "      <th>genre</th>\n",
       "      <th>runtime_cat</th>\n",
       "    </tr>\n",
       "  </thead>\n",
       "  <tbody>\n",
       "    <tr>\n",
       "      <th>0</th>\n",
       "      <td>1</td>\n",
       "      <td>Toy story</td>\n",
       "      <td>114709</td>\n",
       "      <td>1995</td>\n",
       "      <td>tom_hanks</td>\n",
       "      <td>tim_allen</td>\n",
       "      <td>don_rickles</td>\n",
       "      <td>USA</td>\n",
       "      <td>john_lasseter</td>\n",
       "      <td>Adventure Animation Children Comedy Fantasy</td>\n",
       "      <td>length_normal</td>\n",
       "    </tr>\n",
       "    <tr>\n",
       "      <th>1</th>\n",
       "      <td>2</td>\n",
       "      <td>Jumanji</td>\n",
       "      <td>113497</td>\n",
       "      <td>1995</td>\n",
       "      <td>robin_williams</td>\n",
       "      <td>bonnie_hunt</td>\n",
       "      <td>kirsten_dunst</td>\n",
       "      <td>USA</td>\n",
       "      <td>joe_johnston</td>\n",
       "      <td>Adventure Children Fantasy</td>\n",
       "      <td>length_normal</td>\n",
       "    </tr>\n",
       "    <tr>\n",
       "      <th>2</th>\n",
       "      <td>3</td>\n",
       "      <td>Grumpy Old Men</td>\n",
       "      <td>107050</td>\n",
       "      <td>1993</td>\n",
       "      <td>jack_lemmon</td>\n",
       "      <td>walter_matthau</td>\n",
       "      <td>annmargret</td>\n",
       "      <td>USA</td>\n",
       "      <td>donald_petrie</td>\n",
       "      <td>Comedy Romance</td>\n",
       "      <td>length_normal</td>\n",
       "    </tr>\n",
       "    <tr>\n",
       "      <th>3</th>\n",
       "      <td>4</td>\n",
       "      <td>Waiting to Exhale</td>\n",
       "      <td>114885</td>\n",
       "      <td>1995</td>\n",
       "      <td>whitney_houston</td>\n",
       "      <td>angela_bassett</td>\n",
       "      <td>loretta_devine</td>\n",
       "      <td>USA</td>\n",
       "      <td>forest_whitaker</td>\n",
       "      <td>Comedy Drama Romance</td>\n",
       "      <td>length_excess</td>\n",
       "    </tr>\n",
       "    <tr>\n",
       "      <th>4</th>\n",
       "      <td>5</td>\n",
       "      <td>Father of the Bride Part II</td>\n",
       "      <td>113041</td>\n",
       "      <td>1995</td>\n",
       "      <td>steve_martin</td>\n",
       "      <td>diane_keaton</td>\n",
       "      <td>martin_short</td>\n",
       "      <td>USA</td>\n",
       "      <td>charles_shyer</td>\n",
       "      <td>Comedy</td>\n",
       "      <td>length_normal</td>\n",
       "    </tr>\n",
       "    <tr>\n",
       "      <th>...</th>\n",
       "      <td>...</td>\n",
       "      <td>...</td>\n",
       "      <td>...</td>\n",
       "      <td>...</td>\n",
       "      <td>...</td>\n",
       "      <td>...</td>\n",
       "      <td>...</td>\n",
       "      <td>...</td>\n",
       "      <td>...</td>\n",
       "      <td>...</td>\n",
       "      <td>...</td>\n",
       "    </tr>\n",
       "    <tr>\n",
       "      <th>14330</th>\n",
       "      <td>65088</td>\n",
       "      <td>Bedtime Stories</td>\n",
       "      <td>960731</td>\n",
       "      <td>2008</td>\n",
       "      <td>adam_sandler</td>\n",
       "      <td>keri_russell</td>\n",
       "      <td>guy_pearce</td>\n",
       "      <td>USA</td>\n",
       "      <td>adam_shankman</td>\n",
       "      <td>Adventure Children Comedy</td>\n",
       "      <td>length_normal</td>\n",
       "    </tr>\n",
       "    <tr>\n",
       "      <th>14331</th>\n",
       "      <td>65091</td>\n",
       "      <td>Manhattan Melodrama</td>\n",
       "      <td>25464</td>\n",
       "      <td>1934</td>\n",
       "      <td>clark_gable</td>\n",
       "      <td>william_powell</td>\n",
       "      <td>myrna_loy</td>\n",
       "      <td>USA</td>\n",
       "      <td>ws_van_dyke</td>\n",
       "      <td>Crime Drama Romance</td>\n",
       "      <td>length_normal</td>\n",
       "    </tr>\n",
       "    <tr>\n",
       "      <th>14332</th>\n",
       "      <td>65126</td>\n",
       "      <td>Choke</td>\n",
       "      <td>1024715</td>\n",
       "      <td>2008</td>\n",
       "      <td>sam_rockwell</td>\n",
       "      <td>anjelicahuston</td>\n",
       "      <td>kelly_macdonald</td>\n",
       "      <td>USA</td>\n",
       "      <td>clark_gregg</td>\n",
       "      <td>Comedy Drama</td>\n",
       "      <td>length_normal</td>\n",
       "    </tr>\n",
       "    <tr>\n",
       "      <th>14333</th>\n",
       "      <td>65130</td>\n",
       "      <td>Revolutionary Road</td>\n",
       "      <td>959337</td>\n",
       "      <td>2008</td>\n",
       "      <td>leonardo_di_caprio</td>\n",
       "      <td>kate_winslet</td>\n",
       "      <td>kathy_bates</td>\n",
       "      <td>USA</td>\n",
       "      <td>sam_mendes</td>\n",
       "      <td>Drama Romance</td>\n",
       "      <td>length_normal</td>\n",
       "    </tr>\n",
       "    <tr>\n",
       "      <th>14334</th>\n",
       "      <td>65133</td>\n",
       "      <td>Blackadder Back &amp; Forth</td>\n",
       "      <td>212579</td>\n",
       "      <td>1999</td>\n",
       "      <td>colin_firth</td>\n",
       "      <td>hugh_laurie</td>\n",
       "      <td>kate_moss</td>\n",
       "      <td>UK</td>\n",
       "      <td>paul_weiland</td>\n",
       "      <td>Comedy</td>\n",
       "      <td>length_short</td>\n",
       "    </tr>\n",
       "  </tbody>\n",
       "</table>\n",
       "<p>14335 rows × 11 columns</p>\n",
       "</div>"
      ],
      "text/plain": [
       "       movieID                        title   imdbID  year  \\\n",
       "0            1                    Toy story   114709  1995   \n",
       "1            2                      Jumanji   113497  1995   \n",
       "2            3               Grumpy Old Men   107050  1993   \n",
       "3            4            Waiting to Exhale   114885  1995   \n",
       "4            5  Father of the Bride Part II   113041  1995   \n",
       "...        ...                          ...      ...   ...   \n",
       "14330    65088              Bedtime Stories   960731  2008   \n",
       "14331    65091          Manhattan Melodrama    25464  1934   \n",
       "14332    65126                        Choke  1024715  2008   \n",
       "14333    65130           Revolutionary Road   959337  2008   \n",
       "14334    65133      Blackadder Back & Forth   212579  1999   \n",
       "\n",
       "                   actor1          actor2           actor3 country  \\\n",
       "0               tom_hanks       tim_allen      don_rickles     USA   \n",
       "1          robin_williams     bonnie_hunt    kirsten_dunst     USA   \n",
       "2             jack_lemmon  walter_matthau       annmargret     USA   \n",
       "3         whitney_houston  angela_bassett   loretta_devine     USA   \n",
       "4            steve_martin    diane_keaton     martin_short     USA   \n",
       "...                   ...             ...              ...     ...   \n",
       "14330        adam_sandler    keri_russell       guy_pearce     USA   \n",
       "14331         clark_gable  william_powell        myrna_loy     USA   \n",
       "14332        sam_rockwell  anjelicahuston  kelly_macdonald     USA   \n",
       "14333  leonardo_di_caprio    kate_winslet      kathy_bates     USA   \n",
       "14334         colin_firth     hugh_laurie        kate_moss      UK   \n",
       "\n",
       "            directorID                                         genre  \\\n",
       "0        john_lasseter   Adventure Animation Children Comedy Fantasy   \n",
       "1         joe_johnston                    Adventure Children Fantasy   \n",
       "2        donald_petrie                                Comedy Romance   \n",
       "3      forest_whitaker                          Comedy Drama Romance   \n",
       "4        charles_shyer                                        Comedy   \n",
       "...                ...                                           ...   \n",
       "14330    adam_shankman                     Adventure Children Comedy   \n",
       "14331      ws_van_dyke                           Crime Drama Romance   \n",
       "14332      clark_gregg                                  Comedy Drama   \n",
       "14333       sam_mendes                                 Drama Romance   \n",
       "14334     paul_weiland                                        Comedy   \n",
       "\n",
       "         runtime_cat  \n",
       "0      length_normal  \n",
       "1      length_normal  \n",
       "2      length_normal  \n",
       "3      length_excess  \n",
       "4      length_normal  \n",
       "...              ...  \n",
       "14330  length_normal  \n",
       "14331  length_normal  \n",
       "14332  length_normal  \n",
       "14333  length_normal  \n",
       "14334   length_short  \n",
       "\n",
       "[14335 rows x 11 columns]"
      ]
     },
     "execution_count": 60,
     "metadata": {},
     "output_type": "execute_result"
    }
   ],
   "source": [
    "movies = pd.merge(df_movies, df_movies_actor, on='movieID', how='left')\n",
    "print (\"Loosing {} movies due to adding Actors.\".format(len(df_movies['imdbID'].value_counts())-len(movies['imdbID'].value_counts())))\n",
    "movies = pd.merge(movies, df_countries, on='movieID', how='left')\n",
    "print (\"Loosing {} movies due to adding Countries.\".format(len(df_movies['imdbID'].value_counts())-len(movies['imdbID'].value_counts())))\n",
    "movies = pd.merge(movies, df_directors, on='movieID', how='left')\n",
    "print (\"Loosing {} movies due to adding Directors.\".format(len(df_movies['imdbID'].value_counts())-len(movies['imdbID'].value_counts())))\n",
    "movies = pd.merge(movies, df_genres_all, on='movieID', how='left')\n",
    "print (\"Loosing {} movies due to adding Genres.\".format(len(df_movies['imdbID'].value_counts())-len(movies['imdbID'].value_counts())))\n",
    "movies = pd.merge(movies, df_runtime, on='movieID', how='left')\n",
    "print (\"Loosing {} movies due to adding Runtime.\".format(len(df_movies['imdbID'].value_counts())-len(movies['imdbID'].value_counts())))\n",
    "print(movies.shape)\n",
    "movies"
   ]
  },
  {
   "cell_type": "code",
   "execution_count": 61,
   "metadata": {
    "ExecuteTime": {
     "end_time": "2020-07-18T15:11:56.969539Z",
     "start_time": "2020-07-18T15:11:56.955803Z"
    },
    "pycharm": {
     "name": "#%%\n"
    }
   },
   "outputs": [
    {
     "name": "stdout",
     "output_type": "stream",
     "text": [
      "movieID :  0\n",
      "title :  0\n",
      "imdbID :  0\n",
      "year :  0\n",
      "actor1 :  23\n",
      "actor2 :  4600\n",
      "actor3 :  4657\n",
      "country :  40\n",
      "directorID :  347\n",
      "genre :  0\n",
      "runtime_cat :  37\n"
     ]
    }
   ],
   "source": [
    "for col in movies.columns:\n",
    "    print(col, \": \", movies[col].isna().sum())"
   ]
  },
  {
   "cell_type": "code",
   "execution_count": 62,
   "metadata": {
    "ExecuteTime": {
     "end_time": "2020-07-18T15:12:02.574826Z",
     "start_time": "2020-07-18T15:12:02.542401Z"
    }
   },
   "outputs": [
    {
     "data": {
      "text/html": [
       "<div>\n",
       "<style scoped>\n",
       "    .dataframe tbody tr th:only-of-type {\n",
       "        vertical-align: middle;\n",
       "    }\n",
       "\n",
       "    .dataframe tbody tr th {\n",
       "        vertical-align: top;\n",
       "    }\n",
       "\n",
       "    .dataframe thead th {\n",
       "        text-align: right;\n",
       "    }\n",
       "</style>\n",
       "<table border=\"1\" class=\"dataframe\">\n",
       "  <thead>\n",
       "    <tr style=\"text-align: right;\">\n",
       "      <th></th>\n",
       "      <th>movieID</th>\n",
       "      <th>title</th>\n",
       "      <th>imdbID</th>\n",
       "      <th>year</th>\n",
       "      <th>actor1</th>\n",
       "      <th>actor2</th>\n",
       "      <th>actor3</th>\n",
       "      <th>country</th>\n",
       "      <th>directorID</th>\n",
       "      <th>genre</th>\n",
       "      <th>runtime_cat</th>\n",
       "      <th>rounded_year</th>\n",
       "    </tr>\n",
       "  </thead>\n",
       "  <tbody>\n",
       "    <tr>\n",
       "      <th>0</th>\n",
       "      <td>1</td>\n",
       "      <td>Toy story</td>\n",
       "      <td>114709</td>\n",
       "      <td>1995</td>\n",
       "      <td>tom_hanks</td>\n",
       "      <td>tim_allen</td>\n",
       "      <td>don_rickles</td>\n",
       "      <td>USA</td>\n",
       "      <td>john_lasseter</td>\n",
       "      <td>Adventure Animation Children Comedy Fantasy</td>\n",
       "      <td>length_normal</td>\n",
       "      <td>1990</td>\n",
       "    </tr>\n",
       "    <tr>\n",
       "      <th>1</th>\n",
       "      <td>2</td>\n",
       "      <td>Jumanji</td>\n",
       "      <td>113497</td>\n",
       "      <td>1995</td>\n",
       "      <td>robin_williams</td>\n",
       "      <td>bonnie_hunt</td>\n",
       "      <td>kirsten_dunst</td>\n",
       "      <td>USA</td>\n",
       "      <td>joe_johnston</td>\n",
       "      <td>Adventure Children Fantasy</td>\n",
       "      <td>length_normal</td>\n",
       "      <td>1990</td>\n",
       "    </tr>\n",
       "    <tr>\n",
       "      <th>2</th>\n",
       "      <td>3</td>\n",
       "      <td>Grumpy Old Men</td>\n",
       "      <td>107050</td>\n",
       "      <td>1993</td>\n",
       "      <td>jack_lemmon</td>\n",
       "      <td>walter_matthau</td>\n",
       "      <td>annmargret</td>\n",
       "      <td>USA</td>\n",
       "      <td>donald_petrie</td>\n",
       "      <td>Comedy Romance</td>\n",
       "      <td>length_normal</td>\n",
       "      <td>1990</td>\n",
       "    </tr>\n",
       "    <tr>\n",
       "      <th>3</th>\n",
       "      <td>4</td>\n",
       "      <td>Waiting to Exhale</td>\n",
       "      <td>114885</td>\n",
       "      <td>1995</td>\n",
       "      <td>whitney_houston</td>\n",
       "      <td>angela_bassett</td>\n",
       "      <td>loretta_devine</td>\n",
       "      <td>USA</td>\n",
       "      <td>forest_whitaker</td>\n",
       "      <td>Comedy Drama Romance</td>\n",
       "      <td>length_excess</td>\n",
       "      <td>1990</td>\n",
       "    </tr>\n",
       "    <tr>\n",
       "      <th>4</th>\n",
       "      <td>5</td>\n",
       "      <td>Father of the Bride Part II</td>\n",
       "      <td>113041</td>\n",
       "      <td>1995</td>\n",
       "      <td>steve_martin</td>\n",
       "      <td>diane_keaton</td>\n",
       "      <td>martin_short</td>\n",
       "      <td>USA</td>\n",
       "      <td>charles_shyer</td>\n",
       "      <td>Comedy</td>\n",
       "      <td>length_normal</td>\n",
       "      <td>1990</td>\n",
       "    </tr>\n",
       "    <tr>\n",
       "      <th>...</th>\n",
       "      <td>...</td>\n",
       "      <td>...</td>\n",
       "      <td>...</td>\n",
       "      <td>...</td>\n",
       "      <td>...</td>\n",
       "      <td>...</td>\n",
       "      <td>...</td>\n",
       "      <td>...</td>\n",
       "      <td>...</td>\n",
       "      <td>...</td>\n",
       "      <td>...</td>\n",
       "      <td>...</td>\n",
       "    </tr>\n",
       "    <tr>\n",
       "      <th>14330</th>\n",
       "      <td>65088</td>\n",
       "      <td>Bedtime Stories</td>\n",
       "      <td>960731</td>\n",
       "      <td>2008</td>\n",
       "      <td>adam_sandler</td>\n",
       "      <td>keri_russell</td>\n",
       "      <td>guy_pearce</td>\n",
       "      <td>USA</td>\n",
       "      <td>adam_shankman</td>\n",
       "      <td>Adventure Children Comedy</td>\n",
       "      <td>length_normal</td>\n",
       "      <td>2000</td>\n",
       "    </tr>\n",
       "    <tr>\n",
       "      <th>14331</th>\n",
       "      <td>65091</td>\n",
       "      <td>Manhattan Melodrama</td>\n",
       "      <td>25464</td>\n",
       "      <td>1934</td>\n",
       "      <td>clark_gable</td>\n",
       "      <td>william_powell</td>\n",
       "      <td>myrna_loy</td>\n",
       "      <td>USA</td>\n",
       "      <td>ws_van_dyke</td>\n",
       "      <td>Crime Drama Romance</td>\n",
       "      <td>length_normal</td>\n",
       "      <td>1930</td>\n",
       "    </tr>\n",
       "    <tr>\n",
       "      <th>14332</th>\n",
       "      <td>65126</td>\n",
       "      <td>Choke</td>\n",
       "      <td>1024715</td>\n",
       "      <td>2008</td>\n",
       "      <td>sam_rockwell</td>\n",
       "      <td>anjelicahuston</td>\n",
       "      <td>kelly_macdonald</td>\n",
       "      <td>USA</td>\n",
       "      <td>clark_gregg</td>\n",
       "      <td>Comedy Drama</td>\n",
       "      <td>length_normal</td>\n",
       "      <td>2000</td>\n",
       "    </tr>\n",
       "    <tr>\n",
       "      <th>14333</th>\n",
       "      <td>65130</td>\n",
       "      <td>Revolutionary Road</td>\n",
       "      <td>959337</td>\n",
       "      <td>2008</td>\n",
       "      <td>leonardo_di_caprio</td>\n",
       "      <td>kate_winslet</td>\n",
       "      <td>kathy_bates</td>\n",
       "      <td>USA</td>\n",
       "      <td>sam_mendes</td>\n",
       "      <td>Drama Romance</td>\n",
       "      <td>length_normal</td>\n",
       "      <td>2000</td>\n",
       "    </tr>\n",
       "    <tr>\n",
       "      <th>14334</th>\n",
       "      <td>65133</td>\n",
       "      <td>Blackadder Back &amp; Forth</td>\n",
       "      <td>212579</td>\n",
       "      <td>1999</td>\n",
       "      <td>colin_firth</td>\n",
       "      <td>hugh_laurie</td>\n",
       "      <td>kate_moss</td>\n",
       "      <td>UK</td>\n",
       "      <td>paul_weiland</td>\n",
       "      <td>Comedy</td>\n",
       "      <td>length_short</td>\n",
       "      <td>1990</td>\n",
       "    </tr>\n",
       "  </tbody>\n",
       "</table>\n",
       "<p>14335 rows × 12 columns</p>\n",
       "</div>"
      ],
      "text/plain": [
       "       movieID                        title   imdbID  year  \\\n",
       "0            1                    Toy story   114709  1995   \n",
       "1            2                      Jumanji   113497  1995   \n",
       "2            3               Grumpy Old Men   107050  1993   \n",
       "3            4            Waiting to Exhale   114885  1995   \n",
       "4            5  Father of the Bride Part II   113041  1995   \n",
       "...        ...                          ...      ...   ...   \n",
       "14330    65088              Bedtime Stories   960731  2008   \n",
       "14331    65091          Manhattan Melodrama    25464  1934   \n",
       "14332    65126                        Choke  1024715  2008   \n",
       "14333    65130           Revolutionary Road   959337  2008   \n",
       "14334    65133      Blackadder Back & Forth   212579  1999   \n",
       "\n",
       "                   actor1          actor2           actor3 country  \\\n",
       "0               tom_hanks       tim_allen      don_rickles     USA   \n",
       "1          robin_williams     bonnie_hunt    kirsten_dunst     USA   \n",
       "2             jack_lemmon  walter_matthau       annmargret     USA   \n",
       "3         whitney_houston  angela_bassett   loretta_devine     USA   \n",
       "4            steve_martin    diane_keaton     martin_short     USA   \n",
       "...                   ...             ...              ...     ...   \n",
       "14330        adam_sandler    keri_russell       guy_pearce     USA   \n",
       "14331         clark_gable  william_powell        myrna_loy     USA   \n",
       "14332        sam_rockwell  anjelicahuston  kelly_macdonald     USA   \n",
       "14333  leonardo_di_caprio    kate_winslet      kathy_bates     USA   \n",
       "14334         colin_firth     hugh_laurie        kate_moss      UK   \n",
       "\n",
       "            directorID                                         genre  \\\n",
       "0        john_lasseter   Adventure Animation Children Comedy Fantasy   \n",
       "1         joe_johnston                    Adventure Children Fantasy   \n",
       "2        donald_petrie                                Comedy Romance   \n",
       "3      forest_whitaker                          Comedy Drama Romance   \n",
       "4        charles_shyer                                        Comedy   \n",
       "...                ...                                           ...   \n",
       "14330    adam_shankman                     Adventure Children Comedy   \n",
       "14331      ws_van_dyke                           Crime Drama Romance   \n",
       "14332      clark_gregg                                  Comedy Drama   \n",
       "14333       sam_mendes                                 Drama Romance   \n",
       "14334     paul_weiland                                        Comedy   \n",
       "\n",
       "         runtime_cat  rounded_year  \n",
       "0      length_normal          1990  \n",
       "1      length_normal          1990  \n",
       "2      length_normal          1990  \n",
       "3      length_excess          1990  \n",
       "4      length_normal          1990  \n",
       "...              ...           ...  \n",
       "14330  length_normal          2000  \n",
       "14331  length_normal          1930  \n",
       "14332  length_normal          2000  \n",
       "14333  length_normal          2000  \n",
       "14334   length_short          1990  \n",
       "\n",
       "[14335 rows x 12 columns]"
      ]
     },
     "execution_count": 62,
     "metadata": {},
     "output_type": "execute_result"
    }
   ],
   "source": [
    "#Round Year\n",
    "movies['rounded_year'] = movies['year'].astype(int)\n",
    "movies['rounded_year']= movies['rounded_year']/10\n",
    "movies['rounded_year'] = movies['rounded_year'].astype(int)*10\n",
    "movies"
   ]
  },
  {
   "cell_type": "markdown",
   "metadata": {},
   "source": [
    "# Save preprocessed DataFrames"
   ]
  },
  {
   "cell_type": "code",
   "execution_count": 63,
   "metadata": {
    "ExecuteTime": {
     "end_time": "2020-07-18T15:12:06.227696Z",
     "start_time": "2020-07-18T15:12:04.430738Z"
    }
   },
   "outputs": [],
   "source": [
    "movies.to_csv(\n",
    "    '../data/preprocessed/movies.csv')\n",
    "df_ratings.to_csv(\n",
    "    '../data/preprocessed/df_ratings.csv')"
   ]
  },
  {
   "cell_type": "markdown",
   "metadata": {
    "pycharm": {
     "name": "#%% md\n"
    }
   },
   "source": [
    "# First Model"
   ]
  },
  {
   "cell_type": "code",
   "execution_count": 64,
   "metadata": {
    "ExecuteTime": {
     "end_time": "2020-07-18T15:12:06.251964Z",
     "start_time": "2020-07-18T15:12:06.229844Z"
    }
   },
   "outputs": [
    {
     "data": {
      "text/html": [
       "<div>\n",
       "<style scoped>\n",
       "    .dataframe tbody tr th:only-of-type {\n",
       "        vertical-align: middle;\n",
       "    }\n",
       "\n",
       "    .dataframe tbody tr th {\n",
       "        vertical-align: top;\n",
       "    }\n",
       "\n",
       "    .dataframe thead th {\n",
       "        text-align: right;\n",
       "    }\n",
       "</style>\n",
       "<table border=\"1\" class=\"dataframe\">\n",
       "  <thead>\n",
       "    <tr style=\"text-align: right;\">\n",
       "      <th></th>\n",
       "      <th>movieID</th>\n",
       "      <th>title</th>\n",
       "      <th>imdbID</th>\n",
       "      <th>year</th>\n",
       "      <th>actor1</th>\n",
       "      <th>actor2</th>\n",
       "      <th>actor3</th>\n",
       "      <th>country</th>\n",
       "      <th>directorID</th>\n",
       "      <th>genre</th>\n",
       "      <th>runtime_cat</th>\n",
       "      <th>rounded_year</th>\n",
       "    </tr>\n",
       "  </thead>\n",
       "  <tbody>\n",
       "    <tr>\n",
       "      <th>0</th>\n",
       "      <td>1</td>\n",
       "      <td>Toy story</td>\n",
       "      <td>114709</td>\n",
       "      <td>1995</td>\n",
       "      <td>tom_hanks</td>\n",
       "      <td>tim_allen</td>\n",
       "      <td>don_rickles</td>\n",
       "      <td>USA</td>\n",
       "      <td>john_lasseter</td>\n",
       "      <td>Adventure Animation Children Comedy Fantasy</td>\n",
       "      <td>length_normal</td>\n",
       "      <td>1990</td>\n",
       "    </tr>\n",
       "    <tr>\n",
       "      <th>1</th>\n",
       "      <td>2</td>\n",
       "      <td>Jumanji</td>\n",
       "      <td>113497</td>\n",
       "      <td>1995</td>\n",
       "      <td>robin_williams</td>\n",
       "      <td>bonnie_hunt</td>\n",
       "      <td>kirsten_dunst</td>\n",
       "      <td>USA</td>\n",
       "      <td>joe_johnston</td>\n",
       "      <td>Adventure Children Fantasy</td>\n",
       "      <td>length_normal</td>\n",
       "      <td>1990</td>\n",
       "    </tr>\n",
       "    <tr>\n",
       "      <th>2</th>\n",
       "      <td>3</td>\n",
       "      <td>Grumpy Old Men</td>\n",
       "      <td>107050</td>\n",
       "      <td>1993</td>\n",
       "      <td>jack_lemmon</td>\n",
       "      <td>walter_matthau</td>\n",
       "      <td>annmargret</td>\n",
       "      <td>USA</td>\n",
       "      <td>donald_petrie</td>\n",
       "      <td>Comedy Romance</td>\n",
       "      <td>length_normal</td>\n",
       "      <td>1990</td>\n",
       "    </tr>\n",
       "    <tr>\n",
       "      <th>3</th>\n",
       "      <td>4</td>\n",
       "      <td>Waiting to Exhale</td>\n",
       "      <td>114885</td>\n",
       "      <td>1995</td>\n",
       "      <td>whitney_houston</td>\n",
       "      <td>angela_bassett</td>\n",
       "      <td>loretta_devine</td>\n",
       "      <td>USA</td>\n",
       "      <td>forest_whitaker</td>\n",
       "      <td>Comedy Drama Romance</td>\n",
       "      <td>length_excess</td>\n",
       "      <td>1990</td>\n",
       "    </tr>\n",
       "    <tr>\n",
       "      <th>4</th>\n",
       "      <td>5</td>\n",
       "      <td>Father of the Bride Part II</td>\n",
       "      <td>113041</td>\n",
       "      <td>1995</td>\n",
       "      <td>steve_martin</td>\n",
       "      <td>diane_keaton</td>\n",
       "      <td>martin_short</td>\n",
       "      <td>USA</td>\n",
       "      <td>charles_shyer</td>\n",
       "      <td>Comedy</td>\n",
       "      <td>length_normal</td>\n",
       "      <td>1990</td>\n",
       "    </tr>\n",
       "    <tr>\n",
       "      <th>...</th>\n",
       "      <td>...</td>\n",
       "      <td>...</td>\n",
       "      <td>...</td>\n",
       "      <td>...</td>\n",
       "      <td>...</td>\n",
       "      <td>...</td>\n",
       "      <td>...</td>\n",
       "      <td>...</td>\n",
       "      <td>...</td>\n",
       "      <td>...</td>\n",
       "      <td>...</td>\n",
       "      <td>...</td>\n",
       "    </tr>\n",
       "    <tr>\n",
       "      <th>14330</th>\n",
       "      <td>65088</td>\n",
       "      <td>Bedtime Stories</td>\n",
       "      <td>960731</td>\n",
       "      <td>2008</td>\n",
       "      <td>adam_sandler</td>\n",
       "      <td>keri_russell</td>\n",
       "      <td>guy_pearce</td>\n",
       "      <td>USA</td>\n",
       "      <td>adam_shankman</td>\n",
       "      <td>Adventure Children Comedy</td>\n",
       "      <td>length_normal</td>\n",
       "      <td>2000</td>\n",
       "    </tr>\n",
       "    <tr>\n",
       "      <th>14331</th>\n",
       "      <td>65091</td>\n",
       "      <td>Manhattan Melodrama</td>\n",
       "      <td>25464</td>\n",
       "      <td>1934</td>\n",
       "      <td>clark_gable</td>\n",
       "      <td>william_powell</td>\n",
       "      <td>myrna_loy</td>\n",
       "      <td>USA</td>\n",
       "      <td>ws_van_dyke</td>\n",
       "      <td>Crime Drama Romance</td>\n",
       "      <td>length_normal</td>\n",
       "      <td>1930</td>\n",
       "    </tr>\n",
       "    <tr>\n",
       "      <th>14332</th>\n",
       "      <td>65126</td>\n",
       "      <td>Choke</td>\n",
       "      <td>1024715</td>\n",
       "      <td>2008</td>\n",
       "      <td>sam_rockwell</td>\n",
       "      <td>anjelicahuston</td>\n",
       "      <td>kelly_macdonald</td>\n",
       "      <td>USA</td>\n",
       "      <td>clark_gregg</td>\n",
       "      <td>Comedy Drama</td>\n",
       "      <td>length_normal</td>\n",
       "      <td>2000</td>\n",
       "    </tr>\n",
       "    <tr>\n",
       "      <th>14333</th>\n",
       "      <td>65130</td>\n",
       "      <td>Revolutionary Road</td>\n",
       "      <td>959337</td>\n",
       "      <td>2008</td>\n",
       "      <td>leonardo_di_caprio</td>\n",
       "      <td>kate_winslet</td>\n",
       "      <td>kathy_bates</td>\n",
       "      <td>USA</td>\n",
       "      <td>sam_mendes</td>\n",
       "      <td>Drama Romance</td>\n",
       "      <td>length_normal</td>\n",
       "      <td>2000</td>\n",
       "    </tr>\n",
       "    <tr>\n",
       "      <th>14334</th>\n",
       "      <td>65133</td>\n",
       "      <td>Blackadder Back &amp; Forth</td>\n",
       "      <td>212579</td>\n",
       "      <td>1999</td>\n",
       "      <td>colin_firth</td>\n",
       "      <td>hugh_laurie</td>\n",
       "      <td>kate_moss</td>\n",
       "      <td>UK</td>\n",
       "      <td>paul_weiland</td>\n",
       "      <td>Comedy</td>\n",
       "      <td>length_short</td>\n",
       "      <td>1990</td>\n",
       "    </tr>\n",
       "  </tbody>\n",
       "</table>\n",
       "<p>14335 rows × 12 columns</p>\n",
       "</div>"
      ],
      "text/plain": [
       "       movieID                        title   imdbID  year  \\\n",
       "0            1                    Toy story   114709  1995   \n",
       "1            2                      Jumanji   113497  1995   \n",
       "2            3               Grumpy Old Men   107050  1993   \n",
       "3            4            Waiting to Exhale   114885  1995   \n",
       "4            5  Father of the Bride Part II   113041  1995   \n",
       "...        ...                          ...      ...   ...   \n",
       "14330    65088              Bedtime Stories   960731  2008   \n",
       "14331    65091          Manhattan Melodrama    25464  1934   \n",
       "14332    65126                        Choke  1024715  2008   \n",
       "14333    65130           Revolutionary Road   959337  2008   \n",
       "14334    65133      Blackadder Back & Forth   212579  1999   \n",
       "\n",
       "                   actor1          actor2           actor3 country  \\\n",
       "0               tom_hanks       tim_allen      don_rickles     USA   \n",
       "1          robin_williams     bonnie_hunt    kirsten_dunst     USA   \n",
       "2             jack_lemmon  walter_matthau       annmargret     USA   \n",
       "3         whitney_houston  angela_bassett   loretta_devine     USA   \n",
       "4            steve_martin    diane_keaton     martin_short     USA   \n",
       "...                   ...             ...              ...     ...   \n",
       "14330        adam_sandler    keri_russell       guy_pearce     USA   \n",
       "14331         clark_gable  william_powell        myrna_loy     USA   \n",
       "14332        sam_rockwell  anjelicahuston  kelly_macdonald     USA   \n",
       "14333  leonardo_di_caprio    kate_winslet      kathy_bates     USA   \n",
       "14334         colin_firth     hugh_laurie        kate_moss      UK   \n",
       "\n",
       "            directorID                                         genre  \\\n",
       "0        john_lasseter   Adventure Animation Children Comedy Fantasy   \n",
       "1         joe_johnston                    Adventure Children Fantasy   \n",
       "2        donald_petrie                                Comedy Romance   \n",
       "3      forest_whitaker                          Comedy Drama Romance   \n",
       "4        charles_shyer                                        Comedy   \n",
       "...                ...                                           ...   \n",
       "14330    adam_shankman                     Adventure Children Comedy   \n",
       "14331      ws_van_dyke                           Crime Drama Romance   \n",
       "14332      clark_gregg                                  Comedy Drama   \n",
       "14333       sam_mendes                                 Drama Romance   \n",
       "14334     paul_weiland                                        Comedy   \n",
       "\n",
       "         runtime_cat  rounded_year  \n",
       "0      length_normal          1990  \n",
       "1      length_normal          1990  \n",
       "2      length_normal          1990  \n",
       "3      length_excess          1990  \n",
       "4      length_normal          1990  \n",
       "...              ...           ...  \n",
       "14330  length_normal          2000  \n",
       "14331  length_normal          1930  \n",
       "14332  length_normal          2000  \n",
       "14333  length_normal          2000  \n",
       "14334   length_short          1990  \n",
       "\n",
       "[14335 rows x 12 columns]"
      ]
     },
     "execution_count": 64,
     "metadata": {},
     "output_type": "execute_result"
    }
   ],
   "source": [
    "movies_reduced = movies.copy()\n",
    "movies_reduced"
   ]
  },
  {
   "cell_type": "code",
   "execution_count": null,
   "metadata": {
    "collapsed": false,
    "jupyter": {
     "outputs_hidden": false
    },
    "pycharm": {
     "name": "#%%\n"
    }
   },
   "outputs": [],
   "source": [
    "movies_reduced['rounded_year'] = movies_reduced['year'].astype(int)\n",
    "movies_reduced['rounded_year']= movies_reduced['rounded_year']/10\n",
    "movies_reduced['rounded_year'] = movies_reduced['rounded_year'].astype(int)*10\n",
    "movies_reduced"
   ]
  },
  {
   "cell_type": "code",
   "execution_count": 65,
   "metadata": {
    "ExecuteTime": {
     "end_time": "2020-07-18T15:12:06.279862Z",
     "start_time": "2020-07-18T15:12:06.256082Z"
    }
   },
   "outputs": [
    {
     "data": {
      "text/html": [
       "<div>\n",
       "<style scoped>\n",
       "    .dataframe tbody tr th:only-of-type {\n",
       "        vertical-align: middle;\n",
       "    }\n",
       "\n",
       "    .dataframe tbody tr th {\n",
       "        vertical-align: top;\n",
       "    }\n",
       "\n",
       "    .dataframe thead th {\n",
       "        text-align: right;\n",
       "    }\n",
       "</style>\n",
       "<table border=\"1\" class=\"dataframe\">\n",
       "  <thead>\n",
       "    <tr style=\"text-align: right;\">\n",
       "      <th></th>\n",
       "      <th>movieID</th>\n",
       "      <th>title</th>\n",
       "      <th>imdbID</th>\n",
       "      <th>year</th>\n",
       "      <th>actor1</th>\n",
       "      <th>actor2</th>\n",
       "      <th>actor3</th>\n",
       "      <th>country</th>\n",
       "      <th>directorID</th>\n",
       "      <th>genre</th>\n",
       "      <th>runtime_cat</th>\n",
       "      <th>rounded_year</th>\n",
       "    </tr>\n",
       "  </thead>\n",
       "  <tbody>\n",
       "    <tr>\n",
       "      <th>0</th>\n",
       "      <td>1</td>\n",
       "      <td>Toy story</td>\n",
       "      <td>114709</td>\n",
       "      <td>1995</td>\n",
       "      <td>tom_hanks</td>\n",
       "      <td>tim_allen</td>\n",
       "      <td>don_rickles</td>\n",
       "      <td>USA</td>\n",
       "      <td>john_lasseter</td>\n",
       "      <td>Adventure Animation Children Comedy Fantasy</td>\n",
       "      <td>length_normal</td>\n",
       "      <td>1990</td>\n",
       "    </tr>\n",
       "    <tr>\n",
       "      <th>1</th>\n",
       "      <td>2</td>\n",
       "      <td>Jumanji</td>\n",
       "      <td>113497</td>\n",
       "      <td>1995</td>\n",
       "      <td>robin_williams</td>\n",
       "      <td>bonnie_hunt</td>\n",
       "      <td>kirsten_dunst</td>\n",
       "      <td>USA</td>\n",
       "      <td>joe_johnston</td>\n",
       "      <td>Adventure Children Fantasy</td>\n",
       "      <td>length_normal</td>\n",
       "      <td>1990</td>\n",
       "    </tr>\n",
       "    <tr>\n",
       "      <th>2</th>\n",
       "      <td>3</td>\n",
       "      <td>Grumpy Old Men</td>\n",
       "      <td>107050</td>\n",
       "      <td>1993</td>\n",
       "      <td>jack_lemmon</td>\n",
       "      <td>walter_matthau</td>\n",
       "      <td>annmargret</td>\n",
       "      <td>USA</td>\n",
       "      <td>donald_petrie</td>\n",
       "      <td>Comedy Romance</td>\n",
       "      <td>length_normal</td>\n",
       "      <td>1990</td>\n",
       "    </tr>\n",
       "    <tr>\n",
       "      <th>3</th>\n",
       "      <td>4</td>\n",
       "      <td>Waiting to Exhale</td>\n",
       "      <td>114885</td>\n",
       "      <td>1995</td>\n",
       "      <td>whitney_houston</td>\n",
       "      <td>angela_bassett</td>\n",
       "      <td>loretta_devine</td>\n",
       "      <td>USA</td>\n",
       "      <td>forest_whitaker</td>\n",
       "      <td>Comedy Drama Romance</td>\n",
       "      <td>length_excess</td>\n",
       "      <td>1990</td>\n",
       "    </tr>\n",
       "    <tr>\n",
       "      <th>4</th>\n",
       "      <td>5</td>\n",
       "      <td>Father of the Bride Part II</td>\n",
       "      <td>113041</td>\n",
       "      <td>1995</td>\n",
       "      <td>steve_martin</td>\n",
       "      <td>diane_keaton</td>\n",
       "      <td>martin_short</td>\n",
       "      <td>USA</td>\n",
       "      <td>charles_shyer</td>\n",
       "      <td>Comedy</td>\n",
       "      <td>length_normal</td>\n",
       "      <td>1990</td>\n",
       "    </tr>\n",
       "    <tr>\n",
       "      <th>...</th>\n",
       "      <td>...</td>\n",
       "      <td>...</td>\n",
       "      <td>...</td>\n",
       "      <td>...</td>\n",
       "      <td>...</td>\n",
       "      <td>...</td>\n",
       "      <td>...</td>\n",
       "      <td>...</td>\n",
       "      <td>...</td>\n",
       "      <td>...</td>\n",
       "      <td>...</td>\n",
       "      <td>...</td>\n",
       "    </tr>\n",
       "    <tr>\n",
       "      <th>14330</th>\n",
       "      <td>65088</td>\n",
       "      <td>Bedtime Stories</td>\n",
       "      <td>960731</td>\n",
       "      <td>2008</td>\n",
       "      <td>adam_sandler</td>\n",
       "      <td>keri_russell</td>\n",
       "      <td>guy_pearce</td>\n",
       "      <td>USA</td>\n",
       "      <td>adam_shankman</td>\n",
       "      <td>Adventure Children Comedy</td>\n",
       "      <td>length_normal</td>\n",
       "      <td>2000</td>\n",
       "    </tr>\n",
       "    <tr>\n",
       "      <th>14331</th>\n",
       "      <td>65091</td>\n",
       "      <td>Manhattan Melodrama</td>\n",
       "      <td>25464</td>\n",
       "      <td>1934</td>\n",
       "      <td>clark_gable</td>\n",
       "      <td>william_powell</td>\n",
       "      <td>myrna_loy</td>\n",
       "      <td>USA</td>\n",
       "      <td>ws_van_dyke</td>\n",
       "      <td>Crime Drama Romance</td>\n",
       "      <td>length_normal</td>\n",
       "      <td>1930</td>\n",
       "    </tr>\n",
       "    <tr>\n",
       "      <th>14332</th>\n",
       "      <td>65126</td>\n",
       "      <td>Choke</td>\n",
       "      <td>1024715</td>\n",
       "      <td>2008</td>\n",
       "      <td>sam_rockwell</td>\n",
       "      <td>anjelicahuston</td>\n",
       "      <td>kelly_macdonald</td>\n",
       "      <td>USA</td>\n",
       "      <td>clark_gregg</td>\n",
       "      <td>Comedy Drama</td>\n",
       "      <td>length_normal</td>\n",
       "      <td>2000</td>\n",
       "    </tr>\n",
       "    <tr>\n",
       "      <th>14333</th>\n",
       "      <td>65130</td>\n",
       "      <td>Revolutionary Road</td>\n",
       "      <td>959337</td>\n",
       "      <td>2008</td>\n",
       "      <td>leonardo_di_caprio</td>\n",
       "      <td>kate_winslet</td>\n",
       "      <td>kathy_bates</td>\n",
       "      <td>USA</td>\n",
       "      <td>sam_mendes</td>\n",
       "      <td>Drama Romance</td>\n",
       "      <td>length_normal</td>\n",
       "      <td>2000</td>\n",
       "    </tr>\n",
       "    <tr>\n",
       "      <th>14334</th>\n",
       "      <td>65133</td>\n",
       "      <td>Blackadder Back &amp; Forth</td>\n",
       "      <td>212579</td>\n",
       "      <td>1999</td>\n",
       "      <td>colin_firth</td>\n",
       "      <td>hugh_laurie</td>\n",
       "      <td>kate_moss</td>\n",
       "      <td>UK</td>\n",
       "      <td>paul_weiland</td>\n",
       "      <td>Comedy</td>\n",
       "      <td>length_short</td>\n",
       "      <td>1990</td>\n",
       "    </tr>\n",
       "  </tbody>\n",
       "</table>\n",
       "<p>14335 rows × 12 columns</p>\n",
       "</div>"
      ],
      "text/plain": [
       "       movieID                        title   imdbID  year  \\\n",
       "0            1                    Toy story   114709  1995   \n",
       "1            2                      Jumanji   113497  1995   \n",
       "2            3               Grumpy Old Men   107050  1993   \n",
       "3            4            Waiting to Exhale   114885  1995   \n",
       "4            5  Father of the Bride Part II   113041  1995   \n",
       "...        ...                          ...      ...   ...   \n",
       "14330    65088              Bedtime Stories   960731  2008   \n",
       "14331    65091          Manhattan Melodrama    25464  1934   \n",
       "14332    65126                        Choke  1024715  2008   \n",
       "14333    65130           Revolutionary Road   959337  2008   \n",
       "14334    65133      Blackadder Back & Forth   212579  1999   \n",
       "\n",
       "                   actor1          actor2           actor3 country  \\\n",
       "0               tom_hanks       tim_allen      don_rickles     USA   \n",
       "1          robin_williams     bonnie_hunt    kirsten_dunst     USA   \n",
       "2             jack_lemmon  walter_matthau       annmargret     USA   \n",
       "3         whitney_houston  angela_bassett   loretta_devine     USA   \n",
       "4            steve_martin    diane_keaton     martin_short     USA   \n",
       "...                   ...             ...              ...     ...   \n",
       "14330        adam_sandler    keri_russell       guy_pearce     USA   \n",
       "14331         clark_gable  william_powell        myrna_loy     USA   \n",
       "14332        sam_rockwell  anjelicahuston  kelly_macdonald     USA   \n",
       "14333  leonardo_di_caprio    kate_winslet      kathy_bates     USA   \n",
       "14334         colin_firth     hugh_laurie        kate_moss      UK   \n",
       "\n",
       "            directorID                                         genre  \\\n",
       "0        john_lasseter   Adventure Animation Children Comedy Fantasy   \n",
       "1         joe_johnston                    Adventure Children Fantasy   \n",
       "2        donald_petrie                                Comedy Romance   \n",
       "3      forest_whitaker                          Comedy Drama Romance   \n",
       "4        charles_shyer                                        Comedy   \n",
       "...                ...                                           ...   \n",
       "14330    adam_shankman                     Adventure Children Comedy   \n",
       "14331      ws_van_dyke                           Crime Drama Romance   \n",
       "14332      clark_gregg                                  Comedy Drama   \n",
       "14333       sam_mendes                                 Drama Romance   \n",
       "14334     paul_weiland                                        Comedy   \n",
       "\n",
       "         runtime_cat  rounded_year  \n",
       "0      length_normal          1990  \n",
       "1      length_normal          1990  \n",
       "2      length_normal          1990  \n",
       "3      length_excess          1990  \n",
       "4      length_normal          1990  \n",
       "...              ...           ...  \n",
       "14330  length_normal          2000  \n",
       "14331  length_normal          1930  \n",
       "14332  length_normal          2000  \n",
       "14333  length_normal          2000  \n",
       "14334   length_short          1990  \n",
       "\n",
       "[14335 rows x 12 columns]"
      ]
     },
     "execution_count": 65,
     "metadata": {},
     "output_type": "execute_result"
    }
   ],
   "source": [
    "movies_reduced.fillna('', inplace=True)"
   ]
  },
  {
   "cell_type": "code",
   "execution_count": 66,
   "metadata": {
    "ExecuteTime": {
     "end_time": "2020-07-18T15:12:06.295429Z",
     "start_time": "2020-07-18T15:12:06.282939Z"
    }
   },
   "outputs": [],
   "source": [
    "movies_reduced.fillna('', inplace=True)"
   ]
  },
  {
   "cell_type": "code",
   "execution_count": 67,
   "metadata": {
    "ExecuteTime": {
     "end_time": "2020-07-18T15:12:06.403455Z",
     "start_time": "2020-07-18T15:12:06.335903Z"
    }
   },
   "outputs": [
    {
     "data": {
      "text/html": [
       "<div>\n",
       "<style scoped>\n",
       "    .dataframe tbody tr th:only-of-type {\n",
       "        vertical-align: middle;\n",
       "    }\n",
       "\n",
       "    .dataframe tbody tr th {\n",
       "        vertical-align: top;\n",
       "    }\n",
       "\n",
       "    .dataframe thead th {\n",
       "        text-align: right;\n",
       "    }\n",
       "</style>\n",
       "<table border=\"1\" class=\"dataframe\">\n",
       "  <thead>\n",
       "    <tr style=\"text-align: right;\">\n",
       "      <th></th>\n",
       "      <th>movieID</th>\n",
       "      <th>title</th>\n",
       "      <th>all_in_all</th>\n",
       "    </tr>\n",
       "  </thead>\n",
       "  <tbody>\n",
       "    <tr>\n",
       "      <th>0</th>\n",
       "      <td>1</td>\n",
       "      <td>Toy story</td>\n",
       "      <td>Toy story 1990 tom_hanks tim_allen don_rickles...</td>\n",
       "    </tr>\n",
       "    <tr>\n",
       "      <th>1</th>\n",
       "      <td>2</td>\n",
       "      <td>Jumanji</td>\n",
       "      <td>Jumanji 1990 robin_williams bonnie_hunt kirste...</td>\n",
       "    </tr>\n",
       "    <tr>\n",
       "      <th>2</th>\n",
       "      <td>3</td>\n",
       "      <td>Grumpy Old Men</td>\n",
       "      <td>Grumpy Old Men 1990 jack_lemmon walter_matthau...</td>\n",
       "    </tr>\n",
       "    <tr>\n",
       "      <th>3</th>\n",
       "      <td>4</td>\n",
       "      <td>Waiting to Exhale</td>\n",
       "      <td>Waiting to Exhale 1990 whitney_houston angela_...</td>\n",
       "    </tr>\n",
       "    <tr>\n",
       "      <th>4</th>\n",
       "      <td>5</td>\n",
       "      <td>Father of the Bride Part II</td>\n",
       "      <td>Father of the Bride Part II 1990 steve_martin ...</td>\n",
       "    </tr>\n",
       "    <tr>\n",
       "      <th>...</th>\n",
       "      <td>...</td>\n",
       "      <td>...</td>\n",
       "      <td>...</td>\n",
       "    </tr>\n",
       "    <tr>\n",
       "      <th>14330</th>\n",
       "      <td>65088</td>\n",
       "      <td>Bedtime Stories</td>\n",
       "      <td>Bedtime Stories 2000 adam_sandler keri_russell...</td>\n",
       "    </tr>\n",
       "    <tr>\n",
       "      <th>14331</th>\n",
       "      <td>65091</td>\n",
       "      <td>Manhattan Melodrama</td>\n",
       "      <td>Manhattan Melodrama 1930 clark_gable william_p...</td>\n",
       "    </tr>\n",
       "    <tr>\n",
       "      <th>14332</th>\n",
       "      <td>65126</td>\n",
       "      <td>Choke</td>\n",
       "      <td>Choke 2000 sam_rockwell anjelicahuston kelly_m...</td>\n",
       "    </tr>\n",
       "    <tr>\n",
       "      <th>14333</th>\n",
       "      <td>65130</td>\n",
       "      <td>Revolutionary Road</td>\n",
       "      <td>Revolutionary Road 2000 leonardo_di_caprio kat...</td>\n",
       "    </tr>\n",
       "    <tr>\n",
       "      <th>14334</th>\n",
       "      <td>65133</td>\n",
       "      <td>Blackadder Back &amp; Forth</td>\n",
       "      <td>Blackadder Back &amp; Forth 1990 colin_firth hugh_...</td>\n",
       "    </tr>\n",
       "  </tbody>\n",
       "</table>\n",
       "<p>14335 rows × 3 columns</p>\n",
       "</div>"
      ],
      "text/plain": [
       "       movieID                        title  \\\n",
       "0            1                    Toy story   \n",
       "1            2                      Jumanji   \n",
       "2            3               Grumpy Old Men   \n",
       "3            4            Waiting to Exhale   \n",
       "4            5  Father of the Bride Part II   \n",
       "...        ...                          ...   \n",
       "14330    65088              Bedtime Stories   \n",
       "14331    65091          Manhattan Melodrama   \n",
       "14332    65126                        Choke   \n",
       "14333    65130           Revolutionary Road   \n",
       "14334    65133      Blackadder Back & Forth   \n",
       "\n",
       "                                              all_in_all  \n",
       "0      Toy story 1990 tom_hanks tim_allen don_rickles...  \n",
       "1      Jumanji 1990 robin_williams bonnie_hunt kirste...  \n",
       "2      Grumpy Old Men 1990 jack_lemmon walter_matthau...  \n",
       "3      Waiting to Exhale 1990 whitney_houston angela_...  \n",
       "4      Father of the Bride Part II 1990 steve_martin ...  \n",
       "...                                                  ...  \n",
       "14330  Bedtime Stories 2000 adam_sandler keri_russell...  \n",
       "14331  Manhattan Melodrama 1930 clark_gable william_p...  \n",
       "14332  Choke 2000 sam_rockwell anjelicahuston kelly_m...  \n",
       "14333  Revolutionary Road 2000 leonardo_di_caprio kat...  \n",
       "14334  Blackadder Back & Forth 1990 colin_firth hugh_...  \n",
       "\n",
       "[14335 rows x 3 columns]"
      ]
     },
     "execution_count": 67,
     "metadata": {},
     "output_type": "execute_result"
    }
   ],
   "source": [
    "# Die folgenden Spalten werden bei der Bestimmung der Ähnlichkeit betrachtet\n",
    "# und in 'all_in_all' gespeichert\n",
    "# Director wird doppelt gewichtet\n",
    "movies_reduced['all_in_all'] = movies_reduced['title'] +' '+ movies_reduced['rounded_year'].astype(str) +' '+ movies_reduced['actor1'] +' '+ movies_reduced['actor2'] +' '+ movies_reduced['actor3'] +' '+ movies_reduced['directorID'] +' '+ movies_reduced['country'] +' '+ movies_reduced['genre'] +' '+ movies_reduced['directorID'] +' '+ movies_reduced['runtime_cat']\n",
    "\n",
    "# Drop nicht mehr gebrauchte Spalten\n",
    "movies_reduced.drop(\n",
    "    ['year', 'actor1', 'actor2', 'actor3', 'country', 'directorID', 'genre', 'imdbID', 'rounded_year', 'runtime_cat'], axis=1, inplace = True)\n",
    "movies_reduced"
   ]
  },
  {
   "cell_type": "code",
   "execution_count": 68,
   "metadata": {
    "ExecuteTime": {
     "end_time": "2020-07-18T15:12:07.572831Z",
     "start_time": "2020-07-18T15:12:07.560591Z"
    }
   },
   "outputs": [
    {
     "name": "stdout",
     "output_type": "stream",
     "text": [
      "movieID :  0\n",
      "title :  0\n",
      "all_in_all :  0\n"
     ]
    }
   ],
   "source": [
    "# check for null\n",
    "for col in movies_reduced.columns:\n",
    "    print(col, \": \", movies_reduced[col].isna().sum())"
   ]
  },
  {
   "cell_type": "code",
   "execution_count": 69,
   "metadata": {
    "ExecuteTime": {
     "end_time": "2020-07-18T15:12:10.714357Z",
     "start_time": "2020-07-18T15:12:10.709607Z"
    }
   },
   "outputs": [],
   "source": [
    "movies_reduced.reset_index(inplace = True)"
   ]
  },
  {
   "cell_type": "markdown",
   "metadata": {},
   "source": [
    "## Save reduced DataFrame"
   ]
  },
  {
   "cell_type": "code",
   "execution_count": 191,
   "metadata": {},
   "outputs": [],
   "source": [
    "movies_reduced.to_csv(\n",
    "    '../data/preprocessed/movies_reduced.csv')"
   ]
  },
  {
   "cell_type": "code",
   "execution_count": null,
   "metadata": {},
   "outputs": [],
   "source": []
  }
 ],
 "metadata": {
  "kernelspec": {
   "display_name": "bda-analytics-challenge-ss2020-bCwcmXIt",
   "language": "python",
   "name": "bda-analytics-challenge-ss2020-bcwcmxit"
  },
  "language_info": {
   "codemirror_mode": {
    "name": "ipython",
    "version": 3
   },
   "file_extension": ".py",
   "mimetype": "text/x-python",
   "name": "python",
   "nbconvert_exporter": "python",
   "pygments_lexer": "ipython3",
   "version": "3.7.3"
  },
  "toc": {
   "base_numbering": 1,
   "nav_menu": {},
   "number_sections": true,
   "sideBar": true,
   "skip_h1_title": false,
   "title_cell": "Table of Contents",
   "title_sidebar": "Contents",
   "toc_cell": false,
   "toc_position": {
    "height": "calc(100% - 180px)",
    "left": "10px",
    "top": "150px",
    "width": "223px"
   },
   "toc_section_display": true,
   "toc_window_display": true
  },
  "varInspector": {
   "cols": {
    "lenName": 16,
    "lenType": 16,
    "lenVar": 40
   },
   "kernels_config": {
    "python": {
     "delete_cmd_postfix": "",
     "delete_cmd_prefix": "del ",
     "library": "var_list.py",
     "varRefreshCmd": "print(var_dic_list())"
    },
    "r": {
     "delete_cmd_postfix": ") ",
     "delete_cmd_prefix": "rm(",
     "library": "var_list.r",
     "varRefreshCmd": "cat(var_dic_list()) "
    }
   },
   "position": {
    "height": "682px",
    "left": "1545px",
    "right": "20px",
    "top": "120px",
    "width": "355px"
   },
   "types_to_exclude": [
    "module",
    "function",
    "builtin_function_or_method",
    "instance",
    "_Feature"
   ],
   "window_display": false
  }
 },
 "nbformat": 4,
 "nbformat_minor": 4
}
